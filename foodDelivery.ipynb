{
 "cells": [
  {
   "cell_type": "markdown",
   "metadata": {},
   "source": [
    "# CMPT354 - MP1 \n",
    "\n",
    "SQLite Food Delivery Database"
   ]
  },
  {
   "cell_type": "markdown",
   "metadata": {},
   "source": [
    "Load ipython-sql extension:"
   ]
  },
  {
   "cell_type": "code",
   "execution_count": 2,
   "metadata": {},
   "outputs": [],
   "source": [
    "%load_ext sql"
   ]
  },
  {
   "cell_type": "markdown",
   "metadata": {},
   "source": [
    "Create database 'delivery.db':"
   ]
  },
  {
   "cell_type": "code",
   "execution_count": 3,
   "metadata": {},
   "outputs": [
    {
     "data": {
      "text/plain": [
       "'Connected: @delivery.db'"
      ]
     },
     "execution_count": 3,
     "metadata": {},
     "output_type": "execute_result"
    }
   ],
   "source": [
    "%sql sqlite:///delivery.db"
   ]
  },
  {
   "cell_type": "markdown",
   "metadata": {},
   "source": [
    "# Convert Entity Sets to Tables:"
   ]
  },
  {
   "cell_type": "markdown",
   "metadata": {},
   "source": [
    "Create Customer table:"
   ]
  },
  {
   "cell_type": "code",
   "execution_count": 4,
   "metadata": {},
   "outputs": [
    {
     "name": "stdout",
     "output_type": "stream",
     "text": [
      " * sqlite:///delivery.db\n",
      "Done.\n",
      "Done.\n"
     ]
    },
    {
     "data": {
      "text/plain": [
       "[]"
      ]
     },
     "execution_count": 4,
     "metadata": {},
     "output_type": "execute_result"
    }
   ],
   "source": [
    "%%sql\n",
    "\n",
    "PRAGMA foreign_keys = ON;\n",
    "\n",
    "CREATE TABLE Customer(\n",
    "    customerID      INT,\n",
    "    firstName       VARCHAR(20),\n",
    "    lastName        VARCHAR(20),\n",
    "    email           VARCHAR(20),\n",
    "    cusAddress      VARCHAR(100),    \n",
    "    PRIMARY KEY     (customerID)\n",
    ");"
   ]
  },
  {
   "cell_type": "code",
   "execution_count": null,
   "metadata": {},
   "outputs": [],
   "source": [
    "%%sql\n",
    "DROP TABLE Customer;"
   ]
  },
  {
   "cell_type": "markdown",
   "metadata": {},
   "source": [
    "Populate Customer table:"
   ]
  },
  {
   "cell_type": "code",
   "execution_count": 16,
   "metadata": {},
   "outputs": [
    {
     "name": "stdout",
     "output_type": "stream",
     "text": [
      " * sqlite:///delivery.db\n",
      "10 rows affected.\n"
     ]
    },
    {
     "data": {
      "text/plain": [
       "[]"
      ]
     },
     "execution_count": 16,
     "metadata": {},
     "output_type": "execute_result"
    }
   ],
   "source": [
    "%%sql\n",
    "\n",
    "INSERT INTO Customer(customerID, firstName, lastName, email, cusAddress)\n",
    "VALUES  (5369, \"John\", \"Patrick\", \"jpat@gmail.com\", \"7766 Apple St\"),\n",
    "        (4488, \"Arnie\", \"Wright\", \"arnie_wright@yahoo.com\", \"8463 Stage Dr\"),\n",
    "        (3355, \"Luis\", \"Dolan\", \"dolan1234@hotmail.com\", \"9472 Red St\"),\n",
    "        (1244, \"Jennifer\", \"Long\", \"jenny_l@gmail.com\", \"1235 Winter Ave\"),\n",
    "        (9667, \"Quinn\", \"Silva\", \"queen_silver@yahoo.com\", \"3984 Scholar St\"),\n",
    "        (2521, \"Oliver\", \"Mayer\", \"olivermayer@yahoo.com\", \"5874 Heaven Ave\"),\n",
    "        (7930, \"Stephen\", \"Potter\", \"stephen_p@gmail.com\", \"2736 Temple Dr\"),\n",
    "        (9480, \"Natalie\", \"Blackmore\", \"nat_blackmore@hotmail.com\", \"3836 Parade Ave\"),\n",
    "        (2528, \"Elsa\", \"Morgan\", \"elmorgan@yahoo.com\", \"4973 Brown St\"),\n",
    "        (9203, \"Melinda\", \"Marshall\", \"mmarshall@yahoo.com\", \"3846 Reach Dr\");"
   ]
  },
  {
   "cell_type": "code",
   "execution_count": 28,
   "metadata": {},
   "outputs": [
    {
     "name": "stdout",
     "output_type": "stream",
     "text": [
      " * sqlite:///delivery.db\n",
      "Done.\n"
     ]
    },
    {
     "data": {
      "text/html": [
       "<table>\n",
       "    <tr>\n",
       "        <th>customerID</th>\n",
       "        <th>firstName</th>\n",
       "        <th>lastName</th>\n",
       "        <th>email</th>\n",
       "        <th>cusAddress</th>\n",
       "    </tr>\n",
       "    <tr>\n",
       "        <td>5369</td>\n",
       "        <td>John</td>\n",
       "        <td>Patrick</td>\n",
       "        <td>jpat@gmail.com</td>\n",
       "        <td>7766 Apple St</td>\n",
       "    </tr>\n",
       "    <tr>\n",
       "        <td>4488</td>\n",
       "        <td>Arnie</td>\n",
       "        <td>Wright</td>\n",
       "        <td>arnie_wright@yahoo.com</td>\n",
       "        <td>8463 Stage Dr</td>\n",
       "    </tr>\n",
       "    <tr>\n",
       "        <td>3355</td>\n",
       "        <td>Luis</td>\n",
       "        <td>Dolan</td>\n",
       "        <td>dolan1234@hotmail.com</td>\n",
       "        <td>9472 Red St</td>\n",
       "    </tr>\n",
       "    <tr>\n",
       "        <td>1244</td>\n",
       "        <td>Jennifer</td>\n",
       "        <td>Long</td>\n",
       "        <td>jenny_l@gmail.com</td>\n",
       "        <td>1235 Winter Ave</td>\n",
       "    </tr>\n",
       "    <tr>\n",
       "        <td>9667</td>\n",
       "        <td>Quinn</td>\n",
       "        <td>Silva</td>\n",
       "        <td>queen_silver@yahoo.com</td>\n",
       "        <td>3984 Scholar St</td>\n",
       "    </tr>\n",
       "    <tr>\n",
       "        <td>2521</td>\n",
       "        <td>Oliver</td>\n",
       "        <td>Mayer</td>\n",
       "        <td>olivermayer@yahoo.com</td>\n",
       "        <td>5874 Heaven Ave</td>\n",
       "    </tr>\n",
       "    <tr>\n",
       "        <td>7930</td>\n",
       "        <td>Stephen</td>\n",
       "        <td>Potter</td>\n",
       "        <td>stephen_p@gmail.com</td>\n",
       "        <td>2736 Temple Dr</td>\n",
       "    </tr>\n",
       "    <tr>\n",
       "        <td>9480</td>\n",
       "        <td>Natalie</td>\n",
       "        <td>Blackmore</td>\n",
       "        <td>nat_blackmore@hotmail.com</td>\n",
       "        <td>3836 Parade Ave</td>\n",
       "    </tr>\n",
       "    <tr>\n",
       "        <td>2528</td>\n",
       "        <td>Elsa</td>\n",
       "        <td>Morgan</td>\n",
       "        <td>elmorgan@yahoo.com</td>\n",
       "        <td>4973 Brown St</td>\n",
       "    </tr>\n",
       "    <tr>\n",
       "        <td>9203</td>\n",
       "        <td>Melinda</td>\n",
       "        <td>Marshall</td>\n",
       "        <td>mmarshall@yahoo.com</td>\n",
       "        <td>3846 Reach Dr</td>\n",
       "    </tr>\n",
       "</table>"
      ],
      "text/plain": [
       "[(5369, 'John', 'Patrick', 'jpat@gmail.com', '7766 Apple St'),\n",
       " (4488, 'Arnie', 'Wright', 'arnie_wright@yahoo.com', '8463 Stage Dr'),\n",
       " (3355, 'Luis', 'Dolan', 'dolan1234@hotmail.com', '9472 Red St'),\n",
       " (1244, 'Jennifer', 'Long', 'jenny_l@gmail.com', '1235 Winter Ave'),\n",
       " (9667, 'Quinn', 'Silva', 'queen_silver@yahoo.com', '3984 Scholar St'),\n",
       " (2521, 'Oliver', 'Mayer', 'olivermayer@yahoo.com', '5874 Heaven Ave'),\n",
       " (7930, 'Stephen', 'Potter', 'stephen_p@gmail.com', '2736 Temple Dr'),\n",
       " (9480, 'Natalie', 'Blackmore', 'nat_blackmore@hotmail.com', '3836 Parade Ave'),\n",
       " (2528, 'Elsa', 'Morgan', 'elmorgan@yahoo.com', '4973 Brown St'),\n",
       " (9203, 'Melinda', 'Marshall', 'mmarshall@yahoo.com', '3846 Reach Dr')]"
      ]
     },
     "execution_count": 28,
     "metadata": {},
     "output_type": "execute_result"
    }
   ],
   "source": [
    "%%sql\n",
    "SELECT * FROM Customer;"
   ]
  },
  {
   "cell_type": "markdown",
   "metadata": {},
   "source": [
    "<br>Create Payment table:"
   ]
  },
  {
   "cell_type": "code",
   "execution_count": 5,
   "metadata": {},
   "outputs": [
    {
     "name": "stdout",
     "output_type": "stream",
     "text": [
      " * sqlite:///delivery.db\n",
      "Done.\n"
     ]
    },
    {
     "data": {
      "text/plain": [
       "[]"
      ]
     },
     "execution_count": 5,
     "metadata": {},
     "output_type": "execute_result"
    }
   ],
   "source": [
    "%%sql\n",
    "\n",
    "CREATE TABLE Payment(\n",
    "    payID          INT,\n",
    "    payType        CHAR(4),\n",
    "    payTotal       FLOAT,\n",
    "    PRIMARY KEY    (payID)\n",
    ");"
   ]
  },
  {
   "cell_type": "code",
   "execution_count": null,
   "metadata": {},
   "outputs": [],
   "source": [
    "%%sql\n",
    "DROP TABLE Payment;"
   ]
  },
  {
   "cell_type": "markdown",
   "metadata": {},
   "source": [
    "Populate Payment table:"
   ]
  },
  {
   "cell_type": "code",
   "execution_count": 17,
   "metadata": {},
   "outputs": [
    {
     "name": "stdout",
     "output_type": "stream",
     "text": [
      " * sqlite:///delivery.db\n",
      "10 rows affected.\n"
     ]
    },
    {
     "data": {
      "text/plain": [
       "[]"
      ]
     },
     "execution_count": 17,
     "metadata": {},
     "output_type": "execute_result"
    }
   ],
   "source": [
    "%%sql\n",
    "\n",
    "INSERT INTO Payment(payID, payType, payTotal)\n",
    "VALUES  (1949, \"CASH\", 35.00),\n",
    "        (7454, \"CARD\", 15.27),\n",
    "        (5680, \"CASH\", 18.50),\n",
    "        (2904, \"CARD\", 54.58),\n",
    "        (7562, \"CARD\", 43.98),\n",
    "        (7744, \"CARD\", 39.05),\n",
    "        (2377, \"CARD\", 13.65),\n",
    "        (9004, \"CASH\", 29.50),\n",
    "        (3615, \"CASH\", 36.30),\n",
    "        (8168, \"CARD\", 51.12);"
   ]
  },
  {
   "cell_type": "code",
   "execution_count": 29,
   "metadata": {},
   "outputs": [
    {
     "name": "stdout",
     "output_type": "stream",
     "text": [
      " * sqlite:///delivery.db\n",
      "Done.\n"
     ]
    },
    {
     "data": {
      "text/html": [
       "<table>\n",
       "    <tr>\n",
       "        <th>payID</th>\n",
       "        <th>payType</th>\n",
       "        <th>payTotal</th>\n",
       "    </tr>\n",
       "    <tr>\n",
       "        <td>1949</td>\n",
       "        <td>CASH</td>\n",
       "        <td>35.0</td>\n",
       "    </tr>\n",
       "    <tr>\n",
       "        <td>7454</td>\n",
       "        <td>CARD</td>\n",
       "        <td>15.27</td>\n",
       "    </tr>\n",
       "    <tr>\n",
       "        <td>5680</td>\n",
       "        <td>CASH</td>\n",
       "        <td>18.5</td>\n",
       "    </tr>\n",
       "    <tr>\n",
       "        <td>2904</td>\n",
       "        <td>CARD</td>\n",
       "        <td>54.58</td>\n",
       "    </tr>\n",
       "    <tr>\n",
       "        <td>7562</td>\n",
       "        <td>CARD</td>\n",
       "        <td>43.98</td>\n",
       "    </tr>\n",
       "    <tr>\n",
       "        <td>7744</td>\n",
       "        <td>CARD</td>\n",
       "        <td>39.05</td>\n",
       "    </tr>\n",
       "    <tr>\n",
       "        <td>2377</td>\n",
       "        <td>CARD</td>\n",
       "        <td>13.65</td>\n",
       "    </tr>\n",
       "    <tr>\n",
       "        <td>9004</td>\n",
       "        <td>CASH</td>\n",
       "        <td>29.5</td>\n",
       "    </tr>\n",
       "    <tr>\n",
       "        <td>3615</td>\n",
       "        <td>CASH</td>\n",
       "        <td>36.3</td>\n",
       "    </tr>\n",
       "    <tr>\n",
       "        <td>8168</td>\n",
       "        <td>CARD</td>\n",
       "        <td>51.12</td>\n",
       "    </tr>\n",
       "</table>"
      ],
      "text/plain": [
       "[(1949, 'CASH', 35.0),\n",
       " (7454, 'CARD', 15.27),\n",
       " (5680, 'CASH', 18.5),\n",
       " (2904, 'CARD', 54.58),\n",
       " (7562, 'CARD', 43.98),\n",
       " (7744, 'CARD', 39.05),\n",
       " (2377, 'CARD', 13.65),\n",
       " (9004, 'CASH', 29.5),\n",
       " (3615, 'CASH', 36.3),\n",
       " (8168, 'CARD', 51.12)]"
      ]
     },
     "execution_count": 29,
     "metadata": {},
     "output_type": "execute_result"
    }
   ],
   "source": [
    "%%sql\n",
    "SELECT * FROM Payment;"
   ]
  },
  {
   "cell_type": "markdown",
   "metadata": {},
   "source": [
    "<br>Create OrderInstance table:"
   ]
  },
  {
   "cell_type": "code",
   "execution_count": 6,
   "metadata": {},
   "outputs": [
    {
     "name": "stdout",
     "output_type": "stream",
     "text": [
      " * sqlite:///delivery.db\n",
      "Done.\n"
     ]
    },
    {
     "data": {
      "text/plain": [
       "[]"
      ]
     },
     "execution_count": 6,
     "metadata": {},
     "output_type": "execute_result"
    }
   ],
   "source": [
    "%%sql\n",
    "\n",
    "CREATE TABLE OrderInstance(\n",
    "    orderID         INT,\n",
    "    orderTime       TIME,\n",
    "    orderStatus     VARCHAR(30),\n",
    "    totalPrice      FLOAT,    \n",
    "    deliveryTime    TIME,\n",
    "    PRIMARY KEY     (orderID)\n",
    ");"
   ]
  },
  {
   "cell_type": "code",
   "execution_count": null,
   "metadata": {},
   "outputs": [],
   "source": [
    "%%sql\n",
    "DROP TABLE OrderInstance;"
   ]
  },
  {
   "cell_type": "markdown",
   "metadata": {},
   "source": [
    "Populate OrderInstance table:"
   ]
  },
  {
   "cell_type": "code",
   "execution_count": 18,
   "metadata": {},
   "outputs": [
    {
     "name": "stdout",
     "output_type": "stream",
     "text": [
      " * sqlite:///delivery.db\n",
      "10 rows affected.\n"
     ]
    },
    {
     "data": {
      "text/plain": [
       "[]"
      ]
     },
     "execution_count": 18,
     "metadata": {},
     "output_type": "execute_result"
    }
   ],
   "source": [
    "%%sql\n",
    "\n",
    "INSERT INTO OrderInstance(orderID, orderTime, orderStatus, totalPrice, deliveryTime)\n",
    "VALUES  (4977, \"2019-06-29 11:36\", \"Delivered\", 30.75, \"2019-06-29 12:14\"),\n",
    "        (2619, \"2019-06-29 11:39\", \"On the Way\", 13.67, \"\"),\n",
    "        (3334, \"2019-06-29 11:32\", \"Delivered\", 16.98, \"2019-06-29 12:10\"),\n",
    "        (5773, \"2019-06-29 12:13\", \"Preparing Order\", 45.98, \"\"),\n",
    "        (4718, \"2019-06-29 11:59\", \"On the Way\", 37.15, \"\"),\n",
    "        (1421, \"2019-06-29 12:17\", \"Comfirming Order\", 34.35, \"\"),\n",
    "        (5420, \"2019-06-29 11:46\", \"On the Way\", 12.68, \"\"),\n",
    "        (3735, \"2019-06-29 12:05\", \"Preparing Order\", 25.75, \"\"),\n",
    "        (5644, \"2019-06-29 11:48\", \"On the way\", 32.00, \"\"),\n",
    "        (7093, \"2019-06-29 12:08\", \"Preparing Order\", 43.10, \"\");"
   ]
  },
  {
   "cell_type": "code",
   "execution_count": 30,
   "metadata": {},
   "outputs": [
    {
     "name": "stdout",
     "output_type": "stream",
     "text": [
      " * sqlite:///delivery.db\n",
      "Done.\n"
     ]
    },
    {
     "data": {
      "text/html": [
       "<table>\n",
       "    <tr>\n",
       "        <th>orderID</th>\n",
       "        <th>orderTime</th>\n",
       "        <th>orderStatus</th>\n",
       "        <th>totalPrice</th>\n",
       "        <th>deliveryTime</th>\n",
       "    </tr>\n",
       "    <tr>\n",
       "        <td>4977</td>\n",
       "        <td>2019-06-29 11:36</td>\n",
       "        <td>Delivered</td>\n",
       "        <td>30.75</td>\n",
       "        <td>2019-06-29 12:14</td>\n",
       "    </tr>\n",
       "    <tr>\n",
       "        <td>2619</td>\n",
       "        <td>2019-06-29 11:39</td>\n",
       "        <td>On the Way</td>\n",
       "        <td>13.67</td>\n",
       "        <td></td>\n",
       "    </tr>\n",
       "    <tr>\n",
       "        <td>3334</td>\n",
       "        <td>2019-06-29 11:32</td>\n",
       "        <td>Delivered</td>\n",
       "        <td>16.98</td>\n",
       "        <td>2019-06-29 12:10</td>\n",
       "    </tr>\n",
       "    <tr>\n",
       "        <td>5773</td>\n",
       "        <td>2019-06-29 12:13</td>\n",
       "        <td>Preparing Order</td>\n",
       "        <td>45.98</td>\n",
       "        <td></td>\n",
       "    </tr>\n",
       "    <tr>\n",
       "        <td>4718</td>\n",
       "        <td>2019-06-29 11:59</td>\n",
       "        <td>On the Way</td>\n",
       "        <td>37.15</td>\n",
       "        <td></td>\n",
       "    </tr>\n",
       "    <tr>\n",
       "        <td>1421</td>\n",
       "        <td>2019-06-29 12:17</td>\n",
       "        <td>Comfirming Order</td>\n",
       "        <td>34.35</td>\n",
       "        <td></td>\n",
       "    </tr>\n",
       "    <tr>\n",
       "        <td>5420</td>\n",
       "        <td>2019-06-29 11:46</td>\n",
       "        <td>On the Way</td>\n",
       "        <td>12.68</td>\n",
       "        <td></td>\n",
       "    </tr>\n",
       "    <tr>\n",
       "        <td>3735</td>\n",
       "        <td>2019-06-29 12:05</td>\n",
       "        <td>Preparing Order</td>\n",
       "        <td>25.75</td>\n",
       "        <td></td>\n",
       "    </tr>\n",
       "    <tr>\n",
       "        <td>5644</td>\n",
       "        <td>2019-06-29 11:48</td>\n",
       "        <td>On the way</td>\n",
       "        <td>32.0</td>\n",
       "        <td></td>\n",
       "    </tr>\n",
       "    <tr>\n",
       "        <td>7093</td>\n",
       "        <td>2019-06-29 12:08</td>\n",
       "        <td>Preparing Order</td>\n",
       "        <td>43.1</td>\n",
       "        <td></td>\n",
       "    </tr>\n",
       "</table>"
      ],
      "text/plain": [
       "[(4977, '2019-06-29 11:36', 'Delivered', 30.75, '2019-06-29 12:14'),\n",
       " (2619, '2019-06-29 11:39', 'On the Way', 13.67, ''),\n",
       " (3334, '2019-06-29 11:32', 'Delivered', 16.98, '2019-06-29 12:10'),\n",
       " (5773, '2019-06-29 12:13', 'Preparing Order', 45.98, ''),\n",
       " (4718, '2019-06-29 11:59', 'On the Way', 37.15, ''),\n",
       " (1421, '2019-06-29 12:17', 'Comfirming Order', 34.35, ''),\n",
       " (5420, '2019-06-29 11:46', 'On the Way', 12.68, ''),\n",
       " (3735, '2019-06-29 12:05', 'Preparing Order', 25.75, ''),\n",
       " (5644, '2019-06-29 11:48', 'On the way', 32.0, ''),\n",
       " (7093, '2019-06-29 12:08', 'Preparing Order', 43.1, '')]"
      ]
     },
     "execution_count": 30,
     "metadata": {},
     "output_type": "execute_result"
    }
   ],
   "source": [
    "%%sql\n",
    "SELECT * FROM OrderInstance;"
   ]
  },
  {
   "cell_type": "markdown",
   "metadata": {},
   "source": [
    "<br>Create Driver table:"
   ]
  },
  {
   "cell_type": "code",
   "execution_count": 7,
   "metadata": {},
   "outputs": [
    {
     "name": "stdout",
     "output_type": "stream",
     "text": [
      " * sqlite:///delivery.db\n",
      "Done.\n"
     ]
    },
    {
     "data": {
      "text/plain": [
       "[]"
      ]
     },
     "execution_count": 7,
     "metadata": {},
     "output_type": "execute_result"
    }
   ],
   "source": [
    "%%sql\n",
    "\n",
    "CREATE TABLE Driver(\n",
    "    driverID        INT,\n",
    "    firstName       VARCHAR(20),\n",
    "    lastName        VARCHAR(20),\n",
    "    carDesc         VARCHAR(50),\n",
    "    PRIMARY KEY     (driverID)\n",
    ");"
   ]
  },
  {
   "cell_type": "code",
   "execution_count": null,
   "metadata": {},
   "outputs": [],
   "source": [
    "%%sql\n",
    "DROP TABLE Driver;"
   ]
  },
  {
   "cell_type": "markdown",
   "metadata": {},
   "source": [
    "Populate Driver table:"
   ]
  },
  {
   "cell_type": "code",
   "execution_count": 19,
   "metadata": {},
   "outputs": [
    {
     "name": "stdout",
     "output_type": "stream",
     "text": [
      " * sqlite:///delivery.db\n",
      "10 rows affected.\n"
     ]
    },
    {
     "data": {
      "text/plain": [
       "[]"
      ]
     },
     "execution_count": 19,
     "metadata": {},
     "output_type": "execute_result"
    }
   ],
   "source": [
    "%%sql\n",
    "\n",
    "INSERT INTO Driver(driverID, firstName, lastName, carDesc)\n",
    "VALUES  (9919, \"Prisha\", \"Bruce\", \"Honda 2012, Blue\"),\n",
    "        (6604, \"Mark\", \"Plummer\", \"Chevrolet 2014, Black\"),\n",
    "        (8017, \"Fallon\", \"Lee\", \"Nissan 2015, Gray\"),\n",
    "        (7436, \"Bella\", \"Fellows\", \"Hyundai 2010, Pink\"),\n",
    "        (3539, \"Kaleem\", \"Cooper\", \"Fiat 2016, Green\"),\n",
    "        (8545, \"Alfred\", \"Perkins\", \"Mazda 2009, Blue\"),\n",
    "        (7043, \"Philip\", \"Kemberton\", \"Ford 2010, Orange\"),\n",
    "        (2756, \"Bert\", \"Wilkes\", \"Suzuki 2012, Red\"),\n",
    "        (3492, \"Dominic\", \"Ramirez\", \"Citroen 2015, Black\"),\n",
    "        (5124, \"Ivor\", \"Valentine\", \"Toyota 2013, White\");"
   ]
  },
  {
   "cell_type": "code",
   "execution_count": 31,
   "metadata": {},
   "outputs": [
    {
     "name": "stdout",
     "output_type": "stream",
     "text": [
      " * sqlite:///delivery.db\n",
      "Done.\n"
     ]
    },
    {
     "data": {
      "text/html": [
       "<table>\n",
       "    <tr>\n",
       "        <th>driverID</th>\n",
       "        <th>firstName</th>\n",
       "        <th>lastName</th>\n",
       "        <th>carDesc</th>\n",
       "    </tr>\n",
       "    <tr>\n",
       "        <td>9919</td>\n",
       "        <td>Prisha</td>\n",
       "        <td>Bruce</td>\n",
       "        <td>Honda 2012, Blue</td>\n",
       "    </tr>\n",
       "    <tr>\n",
       "        <td>6604</td>\n",
       "        <td>Mark</td>\n",
       "        <td>Plummer</td>\n",
       "        <td>Chevrolet 2014, Black</td>\n",
       "    </tr>\n",
       "    <tr>\n",
       "        <td>8017</td>\n",
       "        <td>Fallon</td>\n",
       "        <td>Lee</td>\n",
       "        <td>Nissan 2015, Gray</td>\n",
       "    </tr>\n",
       "    <tr>\n",
       "        <td>7436</td>\n",
       "        <td>Bella</td>\n",
       "        <td>Fellows</td>\n",
       "        <td>Hyundai 2010, Pink</td>\n",
       "    </tr>\n",
       "    <tr>\n",
       "        <td>3539</td>\n",
       "        <td>Kaleem</td>\n",
       "        <td>Cooper</td>\n",
       "        <td>Fiat 2016, Green</td>\n",
       "    </tr>\n",
       "    <tr>\n",
       "        <td>8545</td>\n",
       "        <td>Alfred</td>\n",
       "        <td>Perkins</td>\n",
       "        <td>Mazda 2009, Blue</td>\n",
       "    </tr>\n",
       "    <tr>\n",
       "        <td>7043</td>\n",
       "        <td>Philip</td>\n",
       "        <td>Kemberton</td>\n",
       "        <td>Ford 2010, Orange</td>\n",
       "    </tr>\n",
       "    <tr>\n",
       "        <td>2756</td>\n",
       "        <td>Bert</td>\n",
       "        <td>Wilkes</td>\n",
       "        <td>Suzuki 2012, Red</td>\n",
       "    </tr>\n",
       "    <tr>\n",
       "        <td>3492</td>\n",
       "        <td>Dominic</td>\n",
       "        <td>Ramirez</td>\n",
       "        <td>Citroen 2015, Black</td>\n",
       "    </tr>\n",
       "    <tr>\n",
       "        <td>5124</td>\n",
       "        <td>Ivor</td>\n",
       "        <td>Valentine</td>\n",
       "        <td>Toyota 2013, White</td>\n",
       "    </tr>\n",
       "</table>"
      ],
      "text/plain": [
       "[(9919, 'Prisha', 'Bruce', 'Honda 2012, Blue'),\n",
       " (6604, 'Mark', 'Plummer', 'Chevrolet 2014, Black'),\n",
       " (8017, 'Fallon', 'Lee', 'Nissan 2015, Gray'),\n",
       " (7436, 'Bella', 'Fellows', 'Hyundai 2010, Pink'),\n",
       " (3539, 'Kaleem', 'Cooper', 'Fiat 2016, Green'),\n",
       " (8545, 'Alfred', 'Perkins', 'Mazda 2009, Blue'),\n",
       " (7043, 'Philip', 'Kemberton', 'Ford 2010, Orange'),\n",
       " (2756, 'Bert', 'Wilkes', 'Suzuki 2012, Red'),\n",
       " (3492, 'Dominic', 'Ramirez', 'Citroen 2015, Black'),\n",
       " (5124, 'Ivor', 'Valentine', 'Toyota 2013, White')]"
      ]
     },
     "execution_count": 31,
     "metadata": {},
     "output_type": "execute_result"
    }
   ],
   "source": [
    "%%sql\n",
    "SELECT * FROM Driver;"
   ]
  },
  {
   "cell_type": "markdown",
   "metadata": {},
   "source": [
    "<br>Create Restaurant table:"
   ]
  },
  {
   "cell_type": "code",
   "execution_count": 8,
   "metadata": {},
   "outputs": [
    {
     "name": "stdout",
     "output_type": "stream",
     "text": [
      " * sqlite:///delivery.db\n",
      "Done.\n"
     ]
    },
    {
     "data": {
      "text/plain": [
       "[]"
      ]
     },
     "execution_count": 8,
     "metadata": {},
     "output_type": "execute_result"
    }
   ],
   "source": [
    "%%sql\n",
    "\n",
    "CREATE TABLE Restaurant(\n",
    "    restName       VARCHAR(30),\n",
    "    restAddress    VARCHAR(100),    \n",
    "    cuisine        VARCHAR(30),\n",
    "    restType       VARCHAR(30),\n",
    "    rating         INT,\n",
    "    PRIMARY KEY    (restName, restAddress)\n",
    ");"
   ]
  },
  {
   "cell_type": "code",
   "execution_count": null,
   "metadata": {},
   "outputs": [],
   "source": [
    "%%sql\n",
    "DROP TABLE Restaurant;"
   ]
  },
  {
   "cell_type": "markdown",
   "metadata": {},
   "source": [
    "Populate Restaurant table:"
   ]
  },
  {
   "cell_type": "code",
   "execution_count": 20,
   "metadata": {},
   "outputs": [
    {
     "name": "stdout",
     "output_type": "stream",
     "text": [
      " * sqlite:///delivery.db\n",
      "10 rows affected.\n"
     ]
    },
    {
     "data": {
      "text/plain": [
       "[]"
      ]
     },
     "execution_count": 20,
     "metadata": {},
     "output_type": "execute_result"
    }
   ],
   "source": [
    "%%sql\n",
    "\n",
    "INSERT INTO Restaurant(restName, restAddress, cuisine, restType, rating)\n",
    "VALUES  (\"McDonald's\", \"4801 E Hastings St\", \"Burger\", \"Fast Food\", 3.6),\n",
    "        (\"Grand Chinese\", \"4461 Lougheed Hwy\", \"Chinese\", \"Casual\", 3.9),\n",
    "        (\"Subway\", \"2251 Holdom Ave\", \"Sandwich\", \"Fast Food\", 3.4),\n",
    "        (\"White Lotus Cafe\", \"5901 Broadway\", \"Vietnamese\", \"Casual\", 4.3),\n",
    "        (\"Poke Five\", \"2247 Commercial Dr\", \"Hawaiian\", \"Fast Casual\", 4.2),\n",
    "        (\"Osaka Sushi\", \"4152 Hastings St\", \"Japanese\", \"Casual\", 3.8),\n",
    "        (\"Red Burrito\", \"1700 Commercial Dr\", \"Mexican\", \"Fast Casual\", 3.8),\n",
    "        (\"Papa John's Pizza\", \"4196 Dawson St\", \"Pizza\", \"Fast Casual\", 2.9),\n",
    "        (\"ZenQ\", \"4569 E Hastings St\", \"Bubble Tea\", \"Cafe\", 4.1),\n",
    "        (\"A&W\", \"4567 Lougheed Hwy\", \"Burger\", \"Fast Food\", 3.2);"
   ]
  },
  {
   "cell_type": "code",
   "execution_count": 32,
   "metadata": {},
   "outputs": [
    {
     "name": "stdout",
     "output_type": "stream",
     "text": [
      " * sqlite:///delivery.db\n",
      "Done.\n"
     ]
    },
    {
     "data": {
      "text/html": [
       "<table>\n",
       "    <tr>\n",
       "        <th>restName</th>\n",
       "        <th>restAddress</th>\n",
       "        <th>cuisine</th>\n",
       "        <th>restType</th>\n",
       "        <th>rating</th>\n",
       "    </tr>\n",
       "    <tr>\n",
       "        <td>McDonald&#x27;s</td>\n",
       "        <td>4801 E Hastings St</td>\n",
       "        <td>Burger</td>\n",
       "        <td>Fast Food</td>\n",
       "        <td>3.6</td>\n",
       "    </tr>\n",
       "    <tr>\n",
       "        <td>Grand Chinese</td>\n",
       "        <td>4461 Lougheed Hwy</td>\n",
       "        <td>Chinese</td>\n",
       "        <td>Casual</td>\n",
       "        <td>3.9</td>\n",
       "    </tr>\n",
       "    <tr>\n",
       "        <td>Subway</td>\n",
       "        <td>2251 Holdom Ave</td>\n",
       "        <td>Sandwich</td>\n",
       "        <td>Fast Food</td>\n",
       "        <td>3.4</td>\n",
       "    </tr>\n",
       "    <tr>\n",
       "        <td>White Lotus Cafe</td>\n",
       "        <td>5901 Broadway</td>\n",
       "        <td>Vietnamese</td>\n",
       "        <td>Casual</td>\n",
       "        <td>4.3</td>\n",
       "    </tr>\n",
       "    <tr>\n",
       "        <td>Poke Five</td>\n",
       "        <td>2247 Commercial Dr</td>\n",
       "        <td>Hawaiian</td>\n",
       "        <td>Fast Casual</td>\n",
       "        <td>4.2</td>\n",
       "    </tr>\n",
       "    <tr>\n",
       "        <td>Osaka Sushi</td>\n",
       "        <td>4152 Hastings St</td>\n",
       "        <td>Japanese</td>\n",
       "        <td>Casual</td>\n",
       "        <td>3.8</td>\n",
       "    </tr>\n",
       "    <tr>\n",
       "        <td>Red Burrito</td>\n",
       "        <td>1700 Commercial Dr</td>\n",
       "        <td>Mexican</td>\n",
       "        <td>Fast Casual</td>\n",
       "        <td>3.8</td>\n",
       "    </tr>\n",
       "    <tr>\n",
       "        <td>Papa John&#x27;s Pizza</td>\n",
       "        <td>4196 Dawson St</td>\n",
       "        <td>Pizza</td>\n",
       "        <td>Fast Casual</td>\n",
       "        <td>2.9</td>\n",
       "    </tr>\n",
       "    <tr>\n",
       "        <td>ZenQ</td>\n",
       "        <td>4569 E Hastings St</td>\n",
       "        <td>Bubble Tea</td>\n",
       "        <td>Cafe</td>\n",
       "        <td>4.1</td>\n",
       "    </tr>\n",
       "    <tr>\n",
       "        <td>A&amp;W</td>\n",
       "        <td>4567 Lougheed Hwy</td>\n",
       "        <td>Burger</td>\n",
       "        <td>Fast Food</td>\n",
       "        <td>3.2</td>\n",
       "    </tr>\n",
       "</table>"
      ],
      "text/plain": [
       "[(\"McDonald's\", '4801 E Hastings St', 'Burger', 'Fast Food', 3.6),\n",
       " ('Grand Chinese', '4461 Lougheed Hwy', 'Chinese', 'Casual', 3.9),\n",
       " ('Subway', '2251 Holdom Ave', 'Sandwich', 'Fast Food', 3.4),\n",
       " ('White Lotus Cafe', '5901 Broadway', 'Vietnamese', 'Casual', 4.3),\n",
       " ('Poke Five', '2247 Commercial Dr', 'Hawaiian', 'Fast Casual', 4.2),\n",
       " ('Osaka Sushi', '4152 Hastings St', 'Japanese', 'Casual', 3.8),\n",
       " ('Red Burrito', '1700 Commercial Dr', 'Mexican', 'Fast Casual', 3.8),\n",
       " (\"Papa John's Pizza\", '4196 Dawson St', 'Pizza', 'Fast Casual', 2.9),\n",
       " ('ZenQ', '4569 E Hastings St', 'Bubble Tea', 'Cafe', 4.1),\n",
       " ('A&W', '4567 Lougheed Hwy', 'Burger', 'Fast Food', 3.2)]"
      ]
     },
     "execution_count": 32,
     "metadata": {},
     "output_type": "execute_result"
    }
   ],
   "source": [
    "%%sql\n",
    "SELECT * FROM Restaurant;"
   ]
  },
  {
   "cell_type": "markdown",
   "metadata": {},
   "source": [
    "<br>Create Menu table"
   ]
  },
  {
   "cell_type": "code",
   "execution_count": 9,
   "metadata": {},
   "outputs": [
    {
     "name": "stdout",
     "output_type": "stream",
     "text": [
      " * sqlite:///delivery.db\n",
      "Done.\n"
     ]
    },
    {
     "data": {
      "text/plain": [
       "[]"
      ]
     },
     "execution_count": 9,
     "metadata": {},
     "output_type": "execute_result"
    }
   ],
   "source": [
    "%%sql\n",
    "\n",
    "CREATE TABLE Menu(\n",
    "    menuID INT,\n",
    "    itemID INT,\n",
    "    PRIMARY KEY (menuID, itemID)\n",
    ");"
   ]
  },
  {
   "cell_type": "code",
   "execution_count": null,
   "metadata": {},
   "outputs": [],
   "source": [
    "%%sql\n",
    "DROP TABLE Menu;"
   ]
  },
  {
   "cell_type": "markdown",
   "metadata": {},
   "source": [
    "Populate Menu table:"
   ]
  },
  {
   "cell_type": "code",
   "execution_count": 21,
   "metadata": {},
   "outputs": [
    {
     "name": "stdout",
     "output_type": "stream",
     "text": [
      " * sqlite:///delivery.db\n",
      "50 rows affected.\n"
     ]
    },
    {
     "data": {
      "text/plain": [
       "[]"
      ]
     },
     "execution_count": 21,
     "metadata": {},
     "output_type": "execute_result"
    }
   ],
   "source": [
    "%%sql\n",
    "\n",
    "INSERT INTO Menu(menuID, itemID)\n",
    "VALUES  (7950, 1),(7950, 2),(7950, 3),(7950, 4),(7950, 5),\n",
    "        (2874, 1),(2874, 2),(2874, 3),(2874, 4),(2874, 5),\n",
    "        (1537, 1),(1537, 2),(1537, 3),(1537, 4),(1537, 5),\n",
    "        (8175, 1),(8175, 2),(8175, 3),(8175, 4),(8175, 5),\n",
    "        (1257, 1),(1257, 2),(1257, 3),(1257, 4),(1257, 5),\n",
    "        (6571, 1),(6571, 2),(6571, 3),(6571, 4),(6571, 5),\n",
    "        (9166, 1),(9166, 2),(9166, 3),(9166, 4),(9166, 5),\n",
    "        (9421, 1),(9421, 2),(9421, 3),(9421, 4),(9421, 5),\n",
    "        (5712, 1),(5712, 2),(5712, 3),(5712, 4),(5712, 5),\n",
    "        (1967, 1),(1967, 2),(1967, 3),(1967, 4),(1967, 5);"
   ]
  },
  {
   "cell_type": "code",
   "execution_count": 33,
   "metadata": {},
   "outputs": [
    {
     "name": "stdout",
     "output_type": "stream",
     "text": [
      " * sqlite:///delivery.db\n",
      "Done.\n"
     ]
    },
    {
     "data": {
      "text/html": [
       "<table>\n",
       "    <tr>\n",
       "        <th>menuID</th>\n",
       "        <th>itemID</th>\n",
       "    </tr>\n",
       "    <tr>\n",
       "        <td>7950</td>\n",
       "        <td>1</td>\n",
       "    </tr>\n",
       "    <tr>\n",
       "        <td>7950</td>\n",
       "        <td>2</td>\n",
       "    </tr>\n",
       "    <tr>\n",
       "        <td>7950</td>\n",
       "        <td>3</td>\n",
       "    </tr>\n",
       "    <tr>\n",
       "        <td>7950</td>\n",
       "        <td>4</td>\n",
       "    </tr>\n",
       "    <tr>\n",
       "        <td>7950</td>\n",
       "        <td>5</td>\n",
       "    </tr>\n",
       "    <tr>\n",
       "        <td>2874</td>\n",
       "        <td>1</td>\n",
       "    </tr>\n",
       "    <tr>\n",
       "        <td>2874</td>\n",
       "        <td>2</td>\n",
       "    </tr>\n",
       "    <tr>\n",
       "        <td>2874</td>\n",
       "        <td>3</td>\n",
       "    </tr>\n",
       "    <tr>\n",
       "        <td>2874</td>\n",
       "        <td>4</td>\n",
       "    </tr>\n",
       "    <tr>\n",
       "        <td>2874</td>\n",
       "        <td>5</td>\n",
       "    </tr>\n",
       "    <tr>\n",
       "        <td>1537</td>\n",
       "        <td>1</td>\n",
       "    </tr>\n",
       "    <tr>\n",
       "        <td>1537</td>\n",
       "        <td>2</td>\n",
       "    </tr>\n",
       "    <tr>\n",
       "        <td>1537</td>\n",
       "        <td>3</td>\n",
       "    </tr>\n",
       "    <tr>\n",
       "        <td>1537</td>\n",
       "        <td>4</td>\n",
       "    </tr>\n",
       "    <tr>\n",
       "        <td>1537</td>\n",
       "        <td>5</td>\n",
       "    </tr>\n",
       "    <tr>\n",
       "        <td>8175</td>\n",
       "        <td>1</td>\n",
       "    </tr>\n",
       "    <tr>\n",
       "        <td>8175</td>\n",
       "        <td>2</td>\n",
       "    </tr>\n",
       "    <tr>\n",
       "        <td>8175</td>\n",
       "        <td>3</td>\n",
       "    </tr>\n",
       "    <tr>\n",
       "        <td>8175</td>\n",
       "        <td>4</td>\n",
       "    </tr>\n",
       "    <tr>\n",
       "        <td>8175</td>\n",
       "        <td>5</td>\n",
       "    </tr>\n",
       "    <tr>\n",
       "        <td>1257</td>\n",
       "        <td>1</td>\n",
       "    </tr>\n",
       "    <tr>\n",
       "        <td>1257</td>\n",
       "        <td>2</td>\n",
       "    </tr>\n",
       "    <tr>\n",
       "        <td>1257</td>\n",
       "        <td>3</td>\n",
       "    </tr>\n",
       "    <tr>\n",
       "        <td>1257</td>\n",
       "        <td>4</td>\n",
       "    </tr>\n",
       "    <tr>\n",
       "        <td>1257</td>\n",
       "        <td>5</td>\n",
       "    </tr>\n",
       "    <tr>\n",
       "        <td>6571</td>\n",
       "        <td>1</td>\n",
       "    </tr>\n",
       "    <tr>\n",
       "        <td>6571</td>\n",
       "        <td>2</td>\n",
       "    </tr>\n",
       "    <tr>\n",
       "        <td>6571</td>\n",
       "        <td>3</td>\n",
       "    </tr>\n",
       "    <tr>\n",
       "        <td>6571</td>\n",
       "        <td>4</td>\n",
       "    </tr>\n",
       "    <tr>\n",
       "        <td>6571</td>\n",
       "        <td>5</td>\n",
       "    </tr>\n",
       "    <tr>\n",
       "        <td>9166</td>\n",
       "        <td>1</td>\n",
       "    </tr>\n",
       "    <tr>\n",
       "        <td>9166</td>\n",
       "        <td>2</td>\n",
       "    </tr>\n",
       "    <tr>\n",
       "        <td>9166</td>\n",
       "        <td>3</td>\n",
       "    </tr>\n",
       "    <tr>\n",
       "        <td>9166</td>\n",
       "        <td>4</td>\n",
       "    </tr>\n",
       "    <tr>\n",
       "        <td>9166</td>\n",
       "        <td>5</td>\n",
       "    </tr>\n",
       "    <tr>\n",
       "        <td>9421</td>\n",
       "        <td>1</td>\n",
       "    </tr>\n",
       "    <tr>\n",
       "        <td>9421</td>\n",
       "        <td>2</td>\n",
       "    </tr>\n",
       "    <tr>\n",
       "        <td>9421</td>\n",
       "        <td>3</td>\n",
       "    </tr>\n",
       "    <tr>\n",
       "        <td>9421</td>\n",
       "        <td>4</td>\n",
       "    </tr>\n",
       "    <tr>\n",
       "        <td>9421</td>\n",
       "        <td>5</td>\n",
       "    </tr>\n",
       "    <tr>\n",
       "        <td>5712</td>\n",
       "        <td>1</td>\n",
       "    </tr>\n",
       "    <tr>\n",
       "        <td>5712</td>\n",
       "        <td>2</td>\n",
       "    </tr>\n",
       "    <tr>\n",
       "        <td>5712</td>\n",
       "        <td>3</td>\n",
       "    </tr>\n",
       "    <tr>\n",
       "        <td>5712</td>\n",
       "        <td>4</td>\n",
       "    </tr>\n",
       "    <tr>\n",
       "        <td>5712</td>\n",
       "        <td>5</td>\n",
       "    </tr>\n",
       "    <tr>\n",
       "        <td>1967</td>\n",
       "        <td>1</td>\n",
       "    </tr>\n",
       "    <tr>\n",
       "        <td>1967</td>\n",
       "        <td>2</td>\n",
       "    </tr>\n",
       "    <tr>\n",
       "        <td>1967</td>\n",
       "        <td>3</td>\n",
       "    </tr>\n",
       "    <tr>\n",
       "        <td>1967</td>\n",
       "        <td>4</td>\n",
       "    </tr>\n",
       "    <tr>\n",
       "        <td>1967</td>\n",
       "        <td>5</td>\n",
       "    </tr>\n",
       "</table>"
      ],
      "text/plain": [
       "[(7950, 1),\n",
       " (7950, 2),\n",
       " (7950, 3),\n",
       " (7950, 4),\n",
       " (7950, 5),\n",
       " (2874, 1),\n",
       " (2874, 2),\n",
       " (2874, 3),\n",
       " (2874, 4),\n",
       " (2874, 5),\n",
       " (1537, 1),\n",
       " (1537, 2),\n",
       " (1537, 3),\n",
       " (1537, 4),\n",
       " (1537, 5),\n",
       " (8175, 1),\n",
       " (8175, 2),\n",
       " (8175, 3),\n",
       " (8175, 4),\n",
       " (8175, 5),\n",
       " (1257, 1),\n",
       " (1257, 2),\n",
       " (1257, 3),\n",
       " (1257, 4),\n",
       " (1257, 5),\n",
       " (6571, 1),\n",
       " (6571, 2),\n",
       " (6571, 3),\n",
       " (6571, 4),\n",
       " (6571, 5),\n",
       " (9166, 1),\n",
       " (9166, 2),\n",
       " (9166, 3),\n",
       " (9166, 4),\n",
       " (9166, 5),\n",
       " (9421, 1),\n",
       " (9421, 2),\n",
       " (9421, 3),\n",
       " (9421, 4),\n",
       " (9421, 5),\n",
       " (5712, 1),\n",
       " (5712, 2),\n",
       " (5712, 3),\n",
       " (5712, 4),\n",
       " (5712, 5),\n",
       " (1967, 1),\n",
       " (1967, 2),\n",
       " (1967, 3),\n",
       " (1967, 4),\n",
       " (1967, 5)]"
      ]
     },
     "execution_count": 33,
     "metadata": {},
     "output_type": "execute_result"
    }
   ],
   "source": [
    "%%sql\n",
    "SELECT * FROM Menu;"
   ]
  },
  {
   "cell_type": "markdown",
   "metadata": {},
   "source": [
    "<br>Create Items table:"
   ]
  },
  {
   "cell_type": "code",
   "execution_count": 10,
   "metadata": {},
   "outputs": [
    {
     "name": "stdout",
     "output_type": "stream",
     "text": [
      " * sqlite:///delivery.db\n",
      "Done.\n"
     ]
    },
    {
     "data": {
      "text/plain": [
       "[]"
      ]
     },
     "execution_count": 10,
     "metadata": {},
     "output_type": "execute_result"
    }
   ],
   "source": [
    "%%sql\n",
    "\n",
    "CREATE TABLE Items(\n",
    "    menuID          INT,\n",
    "    itemID          INT,\n",
    "    itemName        VARCHAR(30),\n",
    "    itemPrice       FLOAT,\n",
    "    PRIMARY KEY     (menuID, itemID),\n",
    "    FOREIGN KEY     (menuID, itemID)\n",
    "    REFERENCES      Menu (menuID, itemID)\n",
    ");"
   ]
  },
  {
   "cell_type": "code",
   "execution_count": null,
   "metadata": {},
   "outputs": [],
   "source": [
    "%%sql\n",
    "DROP TABLE Items;"
   ]
  },
  {
   "cell_type": "markdown",
   "metadata": {},
   "source": [
    "Populate Items table:"
   ]
  },
  {
   "cell_type": "code",
   "execution_count": 22,
   "metadata": {},
   "outputs": [
    {
     "name": "stdout",
     "output_type": "stream",
     "text": [
      " * sqlite:///delivery.db\n",
      "50 rows affected.\n"
     ]
    },
    {
     "data": {
      "text/plain": [
       "[]"
      ]
     },
     "execution_count": 22,
     "metadata": {},
     "output_type": "execute_result"
    }
   ],
   "source": [
    "%%sql\n",
    "\n",
    "INSERT INTO Items(menuID, itemID, itemName, itemPrice)\n",
    "VALUES  (7950, 1, \"Quarter Pounder with Cheese\", 5.89),\n",
    "        (7950, 2, \"Big Mac\", 5.89),\n",
    "        (7950, 3, \"McChicken\", 5.69),\n",
    "        (7950, 4, \"French Fries\", 2.79),\n",
    "        (7950, 5, \"Junior Chicken\", 1.99),\n",
    "        (2874, 1, \"Szechuan-Style Peppery Chicken\", 17.25),\n",
    "        (2874, 2, \"Beef and Broccoli\", 16.25),\n",
    "        (2874, 3, \"Szechuan Beef Noodle Soup\", 10.25),\n",
    "        (2874, 4, \"Shanghai Dumplings\", 8.95),\n",
    "        (2874, 5, \"Steamed Pork Buns\", 9.25),\n",
    "        (1537, 1, \"Black Forest Ham Sub\", 8.79),\n",
    "        (1537, 2, \"Meatball Marinara Sub\", 8.49),\n",
    "        (1537, 3, \"Oven Roasted Chicken Sub\", 10.49),\n",
    "        (1537, 4, \"Garlic Steak Ciabatta\", 7.69),\n",
    "        (1537, 5, \"Grilled Cheese Ciabatta\", 5.49),\n",
    "        (8175, 1, \"Spring Rolls\", 5.50),\n",
    "        (8175, 2, \"Salad Rolls\", 5.50),\n",
    "        (8175, 3, \"BBQ Pork Banh Mi Sandwich\", 5.75),\n",
    "        (8175, 4, \"House Special Pho\", 11.00),\n",
    "        (8175, 5, \"Vermicelli Bowl\", 11.00),\n",
    "        (1257, 1, \"The Drive\", 14.50),\n",
    "        (1257, 2, \"Simply Poke\", 14.50),\n",
    "        (1257, 3, \"Ahi Hawaii\", 14.50),\n",
    "        (1257, 4, \"Akuma Tuna\", 14.50),\n",
    "        (1257, 5, \"Buddha Bowl\", 13.50),\n",
    "        (6571, 1, \"Miso Soup\", 1.50),\n",
    "        (6571, 2, \"Chicken Karaage\", 6.95),\n",
    "        (6571, 3, \"Roll Combo\", 10.45),\n",
    "        (6571, 4, \"Tuna Salmon Combo\", 12.95),\n",
    "        (6571, 5, \"Beef Teriyaki Don\", 10.95),\n",
    "        (9166, 1, \"Red Burrito\", 10.30),\n",
    "        (9166, 2, \"Tamale\", 5.50),\n",
    "        (9166, 3, \"Burrito in a Bowl\", 10.30),\n",
    "        (9166, 4, \"Quesadilla\", 10.30),\n",
    "        (9166, 5, \"Chips with Guacamole\", 4.60),\n",
    "        (9421, 1, \"Small Sausage Pizza\", 10.99),\n",
    "        (9421, 2, \"Medium Cheese Pizza\", 11.99),\n",
    "        (9421, 3, \"Medium BBQ Chicken Bacon Pizza\", 19.99),\n",
    "        (9421, 4, \"Large Pepperoni Pizza\", 16.99),\n",
    "        (9421, 5, \"Large Hawaiian Pizza\", 25.99),\n",
    "        (5712, 1, \"Original Milk Tea\", 5.50),\n",
    "        (5712, 2, \"Mango Smoothie\", 5.99),\n",
    "        (5712, 3, \"Jasmine Green Milk Tea\", 5.50),\n",
    "        (5712, 4, \"Winter Melon Tea Latte\", 5.99),\n",
    "        (5712, 5, \"Lychee Black Tea\", 5.75),\n",
    "        (1967, 1, \"Teen Burger\", 6.69),\n",
    "        (1967, 2, \"Mama Burger\", 5.09),\n",
    "        (1967, 3, \"Papa Burger\", 6.69),\n",
    "        (1967, 4, \"Chubby Chicken Burger\", 6.89),\n",
    "        (1967, 5, \"Russet Thick Cut Fries\", 2.99);"
   ]
  },
  {
   "cell_type": "code",
   "execution_count": 34,
   "metadata": {},
   "outputs": [
    {
     "name": "stdout",
     "output_type": "stream",
     "text": [
      " * sqlite:///delivery.db\n",
      "Done.\n"
     ]
    },
    {
     "data": {
      "text/html": [
       "<table>\n",
       "    <tr>\n",
       "        <th>menuID</th>\n",
       "        <th>itemID</th>\n",
       "        <th>itemName</th>\n",
       "        <th>itemPrice</th>\n",
       "    </tr>\n",
       "    <tr>\n",
       "        <td>7950</td>\n",
       "        <td>1</td>\n",
       "        <td>Quarter Pounder with Cheese</td>\n",
       "        <td>5.89</td>\n",
       "    </tr>\n",
       "    <tr>\n",
       "        <td>7950</td>\n",
       "        <td>2</td>\n",
       "        <td>Big Mac</td>\n",
       "        <td>5.89</td>\n",
       "    </tr>\n",
       "    <tr>\n",
       "        <td>7950</td>\n",
       "        <td>3</td>\n",
       "        <td>McChicken</td>\n",
       "        <td>5.69</td>\n",
       "    </tr>\n",
       "    <tr>\n",
       "        <td>7950</td>\n",
       "        <td>4</td>\n",
       "        <td>French Fries</td>\n",
       "        <td>2.79</td>\n",
       "    </tr>\n",
       "    <tr>\n",
       "        <td>7950</td>\n",
       "        <td>5</td>\n",
       "        <td>Junior Chicken</td>\n",
       "        <td>1.99</td>\n",
       "    </tr>\n",
       "    <tr>\n",
       "        <td>2874</td>\n",
       "        <td>1</td>\n",
       "        <td>Szechuan-Style Peppery Chicken</td>\n",
       "        <td>17.25</td>\n",
       "    </tr>\n",
       "    <tr>\n",
       "        <td>2874</td>\n",
       "        <td>2</td>\n",
       "        <td>Beef and Broccoli</td>\n",
       "        <td>16.25</td>\n",
       "    </tr>\n",
       "    <tr>\n",
       "        <td>2874</td>\n",
       "        <td>3</td>\n",
       "        <td>Szechuan Beef Noodle Soup</td>\n",
       "        <td>10.25</td>\n",
       "    </tr>\n",
       "    <tr>\n",
       "        <td>2874</td>\n",
       "        <td>4</td>\n",
       "        <td>Shanghai Dumplings</td>\n",
       "        <td>8.95</td>\n",
       "    </tr>\n",
       "    <tr>\n",
       "        <td>2874</td>\n",
       "        <td>5</td>\n",
       "        <td>Steamed Pork Buns</td>\n",
       "        <td>9.25</td>\n",
       "    </tr>\n",
       "    <tr>\n",
       "        <td>1537</td>\n",
       "        <td>1</td>\n",
       "        <td>Black Forest Ham Sub</td>\n",
       "        <td>8.79</td>\n",
       "    </tr>\n",
       "    <tr>\n",
       "        <td>1537</td>\n",
       "        <td>2</td>\n",
       "        <td>Meatball Marinara Sub</td>\n",
       "        <td>8.49</td>\n",
       "    </tr>\n",
       "    <tr>\n",
       "        <td>1537</td>\n",
       "        <td>3</td>\n",
       "        <td>Oven Roasted Chicken Sub</td>\n",
       "        <td>10.49</td>\n",
       "    </tr>\n",
       "    <tr>\n",
       "        <td>1537</td>\n",
       "        <td>4</td>\n",
       "        <td>Garlic Steak Ciabatta</td>\n",
       "        <td>7.69</td>\n",
       "    </tr>\n",
       "    <tr>\n",
       "        <td>1537</td>\n",
       "        <td>5</td>\n",
       "        <td>Grilled Cheese Ciabatta</td>\n",
       "        <td>5.49</td>\n",
       "    </tr>\n",
       "    <tr>\n",
       "        <td>8175</td>\n",
       "        <td>1</td>\n",
       "        <td>Spring Rolls</td>\n",
       "        <td>5.5</td>\n",
       "    </tr>\n",
       "    <tr>\n",
       "        <td>8175</td>\n",
       "        <td>2</td>\n",
       "        <td>Salad Rolls</td>\n",
       "        <td>5.5</td>\n",
       "    </tr>\n",
       "    <tr>\n",
       "        <td>8175</td>\n",
       "        <td>3</td>\n",
       "        <td>BBQ Pork Banh Mi Sandwich</td>\n",
       "        <td>5.75</td>\n",
       "    </tr>\n",
       "    <tr>\n",
       "        <td>8175</td>\n",
       "        <td>4</td>\n",
       "        <td>House Special Pho</td>\n",
       "        <td>11.0</td>\n",
       "    </tr>\n",
       "    <tr>\n",
       "        <td>8175</td>\n",
       "        <td>5</td>\n",
       "        <td>Vermicelli Bowl</td>\n",
       "        <td>11.0</td>\n",
       "    </tr>\n",
       "    <tr>\n",
       "        <td>1257</td>\n",
       "        <td>1</td>\n",
       "        <td>The Drive</td>\n",
       "        <td>14.5</td>\n",
       "    </tr>\n",
       "    <tr>\n",
       "        <td>1257</td>\n",
       "        <td>2</td>\n",
       "        <td>Simply Poke</td>\n",
       "        <td>14.5</td>\n",
       "    </tr>\n",
       "    <tr>\n",
       "        <td>1257</td>\n",
       "        <td>3</td>\n",
       "        <td>Ahi Hawaii</td>\n",
       "        <td>14.5</td>\n",
       "    </tr>\n",
       "    <tr>\n",
       "        <td>1257</td>\n",
       "        <td>4</td>\n",
       "        <td>Akuma Tuna</td>\n",
       "        <td>14.5</td>\n",
       "    </tr>\n",
       "    <tr>\n",
       "        <td>1257</td>\n",
       "        <td>5</td>\n",
       "        <td>Buddha Bowl</td>\n",
       "        <td>13.5</td>\n",
       "    </tr>\n",
       "    <tr>\n",
       "        <td>6571</td>\n",
       "        <td>1</td>\n",
       "        <td>Miso Soup</td>\n",
       "        <td>1.5</td>\n",
       "    </tr>\n",
       "    <tr>\n",
       "        <td>6571</td>\n",
       "        <td>2</td>\n",
       "        <td>Chicken Karaage</td>\n",
       "        <td>6.95</td>\n",
       "    </tr>\n",
       "    <tr>\n",
       "        <td>6571</td>\n",
       "        <td>3</td>\n",
       "        <td>Roll Combo</td>\n",
       "        <td>10.45</td>\n",
       "    </tr>\n",
       "    <tr>\n",
       "        <td>6571</td>\n",
       "        <td>4</td>\n",
       "        <td>Tuna Salmon Combo</td>\n",
       "        <td>12.95</td>\n",
       "    </tr>\n",
       "    <tr>\n",
       "        <td>6571</td>\n",
       "        <td>5</td>\n",
       "        <td>Beef Teriyaki Don</td>\n",
       "        <td>10.95</td>\n",
       "    </tr>\n",
       "    <tr>\n",
       "        <td>9166</td>\n",
       "        <td>1</td>\n",
       "        <td>Red Burrito</td>\n",
       "        <td>10.3</td>\n",
       "    </tr>\n",
       "    <tr>\n",
       "        <td>9166</td>\n",
       "        <td>2</td>\n",
       "        <td>Tamale</td>\n",
       "        <td>5.5</td>\n",
       "    </tr>\n",
       "    <tr>\n",
       "        <td>9166</td>\n",
       "        <td>3</td>\n",
       "        <td>Burrito in a Bowl</td>\n",
       "        <td>10.3</td>\n",
       "    </tr>\n",
       "    <tr>\n",
       "        <td>9166</td>\n",
       "        <td>4</td>\n",
       "        <td>Quesadilla</td>\n",
       "        <td>10.3</td>\n",
       "    </tr>\n",
       "    <tr>\n",
       "        <td>9166</td>\n",
       "        <td>5</td>\n",
       "        <td>Chips with Guacamole</td>\n",
       "        <td>4.6</td>\n",
       "    </tr>\n",
       "    <tr>\n",
       "        <td>9421</td>\n",
       "        <td>1</td>\n",
       "        <td>Small Sausage Pizza</td>\n",
       "        <td>10.99</td>\n",
       "    </tr>\n",
       "    <tr>\n",
       "        <td>9421</td>\n",
       "        <td>2</td>\n",
       "        <td>Medium Cheese Pizza</td>\n",
       "        <td>11.99</td>\n",
       "    </tr>\n",
       "    <tr>\n",
       "        <td>9421</td>\n",
       "        <td>3</td>\n",
       "        <td>Medium BBQ Chicken Bacon Pizza</td>\n",
       "        <td>19.99</td>\n",
       "    </tr>\n",
       "    <tr>\n",
       "        <td>9421</td>\n",
       "        <td>4</td>\n",
       "        <td>Large Pepperoni Pizza</td>\n",
       "        <td>16.99</td>\n",
       "    </tr>\n",
       "    <tr>\n",
       "        <td>9421</td>\n",
       "        <td>5</td>\n",
       "        <td>Large Hawaiian Pizza</td>\n",
       "        <td>25.99</td>\n",
       "    </tr>\n",
       "    <tr>\n",
       "        <td>5712</td>\n",
       "        <td>1</td>\n",
       "        <td>Original Milk Tea</td>\n",
       "        <td>5.5</td>\n",
       "    </tr>\n",
       "    <tr>\n",
       "        <td>5712</td>\n",
       "        <td>2</td>\n",
       "        <td>Mango Smoothie</td>\n",
       "        <td>5.99</td>\n",
       "    </tr>\n",
       "    <tr>\n",
       "        <td>5712</td>\n",
       "        <td>3</td>\n",
       "        <td>Jasmine Green Milk Tea</td>\n",
       "        <td>5.5</td>\n",
       "    </tr>\n",
       "    <tr>\n",
       "        <td>5712</td>\n",
       "        <td>4</td>\n",
       "        <td>Winter Melon Tea Latte</td>\n",
       "        <td>5.99</td>\n",
       "    </tr>\n",
       "    <tr>\n",
       "        <td>5712</td>\n",
       "        <td>5</td>\n",
       "        <td>Lychee Black Tea</td>\n",
       "        <td>5.75</td>\n",
       "    </tr>\n",
       "    <tr>\n",
       "        <td>1967</td>\n",
       "        <td>1</td>\n",
       "        <td>Teen Burger</td>\n",
       "        <td>6.69</td>\n",
       "    </tr>\n",
       "    <tr>\n",
       "        <td>1967</td>\n",
       "        <td>2</td>\n",
       "        <td>Mama Burger</td>\n",
       "        <td>5.09</td>\n",
       "    </tr>\n",
       "    <tr>\n",
       "        <td>1967</td>\n",
       "        <td>3</td>\n",
       "        <td>Papa Burger</td>\n",
       "        <td>6.69</td>\n",
       "    </tr>\n",
       "    <tr>\n",
       "        <td>1967</td>\n",
       "        <td>4</td>\n",
       "        <td>Chubby Chicken Burger</td>\n",
       "        <td>6.89</td>\n",
       "    </tr>\n",
       "    <tr>\n",
       "        <td>1967</td>\n",
       "        <td>5</td>\n",
       "        <td>Russet Thick Cut Fries</td>\n",
       "        <td>2.99</td>\n",
       "    </tr>\n",
       "</table>"
      ],
      "text/plain": [
       "[(7950, 1, 'Quarter Pounder with Cheese', 5.89),\n",
       " (7950, 2, 'Big Mac', 5.89),\n",
       " (7950, 3, 'McChicken', 5.69),\n",
       " (7950, 4, 'French Fries', 2.79),\n",
       " (7950, 5, 'Junior Chicken', 1.99),\n",
       " (2874, 1, 'Szechuan-Style Peppery Chicken', 17.25),\n",
       " (2874, 2, 'Beef and Broccoli', 16.25),\n",
       " (2874, 3, 'Szechuan Beef Noodle Soup', 10.25),\n",
       " (2874, 4, 'Shanghai Dumplings', 8.95),\n",
       " (2874, 5, 'Steamed Pork Buns', 9.25),\n",
       " (1537, 1, 'Black Forest Ham Sub', 8.79),\n",
       " (1537, 2, 'Meatball Marinara Sub', 8.49),\n",
       " (1537, 3, 'Oven Roasted Chicken Sub', 10.49),\n",
       " (1537, 4, 'Garlic Steak Ciabatta', 7.69),\n",
       " (1537, 5, 'Grilled Cheese Ciabatta', 5.49),\n",
       " (8175, 1, 'Spring Rolls', 5.5),\n",
       " (8175, 2, 'Salad Rolls', 5.5),\n",
       " (8175, 3, 'BBQ Pork Banh Mi Sandwich', 5.75),\n",
       " (8175, 4, 'House Special Pho', 11.0),\n",
       " (8175, 5, 'Vermicelli Bowl', 11.0),\n",
       " (1257, 1, 'The Drive', 14.5),\n",
       " (1257, 2, 'Simply Poke', 14.5),\n",
       " (1257, 3, 'Ahi Hawaii', 14.5),\n",
       " (1257, 4, 'Akuma Tuna', 14.5),\n",
       " (1257, 5, 'Buddha Bowl', 13.5),\n",
       " (6571, 1, 'Miso Soup', 1.5),\n",
       " (6571, 2, 'Chicken Karaage', 6.95),\n",
       " (6571, 3, 'Roll Combo', 10.45),\n",
       " (6571, 4, 'Tuna Salmon Combo', 12.95),\n",
       " (6571, 5, 'Beef Teriyaki Don', 10.95),\n",
       " (9166, 1, 'Red Burrito', 10.3),\n",
       " (9166, 2, 'Tamale', 5.5),\n",
       " (9166, 3, 'Burrito in a Bowl', 10.3),\n",
       " (9166, 4, 'Quesadilla', 10.3),\n",
       " (9166, 5, 'Chips with Guacamole', 4.6),\n",
       " (9421, 1, 'Small Sausage Pizza', 10.99),\n",
       " (9421, 2, 'Medium Cheese Pizza', 11.99),\n",
       " (9421, 3, 'Medium BBQ Chicken Bacon Pizza', 19.99),\n",
       " (9421, 4, 'Large Pepperoni Pizza', 16.99),\n",
       " (9421, 5, 'Large Hawaiian Pizza', 25.99),\n",
       " (5712, 1, 'Original Milk Tea', 5.5),\n",
       " (5712, 2, 'Mango Smoothie', 5.99),\n",
       " (5712, 3, 'Jasmine Green Milk Tea', 5.5),\n",
       " (5712, 4, 'Winter Melon Tea Latte', 5.99),\n",
       " (5712, 5, 'Lychee Black Tea', 5.75),\n",
       " (1967, 1, 'Teen Burger', 6.69),\n",
       " (1967, 2, 'Mama Burger', 5.09),\n",
       " (1967, 3, 'Papa Burger', 6.69),\n",
       " (1967, 4, 'Chubby Chicken Burger', 6.89),\n",
       " (1967, 5, 'Russet Thick Cut Fries', 2.99)]"
      ]
     },
     "execution_count": 34,
     "metadata": {},
     "output_type": "execute_result"
    }
   ],
   "source": [
    "%%sql  \n",
    "SELECT * FROM Items;"
   ]
  },
  {
   "cell_type": "markdown",
   "metadata": {},
   "source": [
    "# Convert Relationships to Tables:"
   ]
  },
  {
   "cell_type": "markdown",
   "metadata": {},
   "source": [
    "Create Pays table:"
   ]
  },
  {
   "cell_type": "code",
   "execution_count": 11,
   "metadata": {},
   "outputs": [
    {
     "name": "stdout",
     "output_type": "stream",
     "text": [
      " * sqlite:///delivery.db\n",
      "Done.\n"
     ]
    },
    {
     "data": {
      "text/plain": [
       "[]"
      ]
     },
     "execution_count": 11,
     "metadata": {},
     "output_type": "execute_result"
    }
   ],
   "source": [
    "%%sql\n",
    "\n",
    "CREATE TABLE Pays(\n",
    "    customerID     INT,\n",
    "    payID          INT,\n",
    "    PRIMARY KEY    (customerID, payID),\n",
    "    FOREIGN KEY    (customerID) \n",
    "    REFERENCES     Customer (customerID),\n",
    "    FOREIGN KEY    (payID)\n",
    "    REFERENCES     Payment (payID)\n",
    ");"
   ]
  },
  {
   "cell_type": "code",
   "execution_count": null,
   "metadata": {},
   "outputs": [],
   "source": [
    "%%sql\n",
    "DROP TABLE Pays;"
   ]
  },
  {
   "cell_type": "markdown",
   "metadata": {},
   "source": [
    "Populate Pays table:"
   ]
  },
  {
   "cell_type": "code",
   "execution_count": 23,
   "metadata": {},
   "outputs": [
    {
     "name": "stdout",
     "output_type": "stream",
     "text": [
      " * sqlite:///delivery.db\n",
      "10 rows affected.\n"
     ]
    },
    {
     "data": {
      "text/plain": [
       "[]"
      ]
     },
     "execution_count": 23,
     "metadata": {},
     "output_type": "execute_result"
    }
   ],
   "source": [
    "%%sql\n",
    "\n",
    "INSERT INTO Pays(customerID, payID)\n",
    "VALUES  (5369, 1949),\n",
    "        (4488, 7454),\n",
    "        (3355, 5680),\n",
    "        (1244, 2904),\n",
    "        (9667, 7562),\n",
    "        (2521, 7744),\n",
    "        (7930, 2377),\n",
    "        (9480, 9004),\n",
    "        (2528, 3615),\n",
    "        (9203, 8168);"
   ]
  },
  {
   "cell_type": "code",
   "execution_count": 35,
   "metadata": {},
   "outputs": [
    {
     "name": "stdout",
     "output_type": "stream",
     "text": [
      " * sqlite:///delivery.db\n",
      "Done.\n"
     ]
    },
    {
     "data": {
      "text/html": [
       "<table>\n",
       "    <tr>\n",
       "        <th>customerID</th>\n",
       "        <th>payID</th>\n",
       "    </tr>\n",
       "    <tr>\n",
       "        <td>5369</td>\n",
       "        <td>1949</td>\n",
       "    </tr>\n",
       "    <tr>\n",
       "        <td>4488</td>\n",
       "        <td>7454</td>\n",
       "    </tr>\n",
       "    <tr>\n",
       "        <td>3355</td>\n",
       "        <td>5680</td>\n",
       "    </tr>\n",
       "    <tr>\n",
       "        <td>1244</td>\n",
       "        <td>2904</td>\n",
       "    </tr>\n",
       "    <tr>\n",
       "        <td>9667</td>\n",
       "        <td>7562</td>\n",
       "    </tr>\n",
       "    <tr>\n",
       "        <td>2521</td>\n",
       "        <td>7744</td>\n",
       "    </tr>\n",
       "    <tr>\n",
       "        <td>7930</td>\n",
       "        <td>2377</td>\n",
       "    </tr>\n",
       "    <tr>\n",
       "        <td>9480</td>\n",
       "        <td>9004</td>\n",
       "    </tr>\n",
       "    <tr>\n",
       "        <td>2528</td>\n",
       "        <td>3615</td>\n",
       "    </tr>\n",
       "    <tr>\n",
       "        <td>9203</td>\n",
       "        <td>8168</td>\n",
       "    </tr>\n",
       "</table>"
      ],
      "text/plain": [
       "[(5369, 1949),\n",
       " (4488, 7454),\n",
       " (3355, 5680),\n",
       " (1244, 2904),\n",
       " (9667, 7562),\n",
       " (2521, 7744),\n",
       " (7930, 2377),\n",
       " (9480, 9004),\n",
       " (2528, 3615),\n",
       " (9203, 8168)]"
      ]
     },
     "execution_count": 35,
     "metadata": {},
     "output_type": "execute_result"
    }
   ],
   "source": [
    "%%sql\n",
    "SELECT * FROM Pays;"
   ]
  },
  {
   "cell_type": "markdown",
   "metadata": {},
   "source": [
    "<br>Create Delivers table:"
   ]
  },
  {
   "cell_type": "code",
   "execution_count": 12,
   "metadata": {},
   "outputs": [
    {
     "name": "stdout",
     "output_type": "stream",
     "text": [
      " * sqlite:///delivery.db\n",
      "Done.\n"
     ]
    },
    {
     "data": {
      "text/plain": [
       "[]"
      ]
     },
     "execution_count": 12,
     "metadata": {},
     "output_type": "execute_result"
    }
   ],
   "source": [
    "%%sql\n",
    "\n",
    "CREATE TABLE Delivers(\n",
    "    driverID       INT,\n",
    "    orderID        INT,\n",
    "    PRIMARY KEY    (driverID, orderID),\n",
    "    FOREIGN KEY    (driverID)\n",
    "    REFERENCES     Driver (driverID),\n",
    "    FOREIGN KEY    (orderID)\n",
    "    REFERENCES     OrderInstance (orderID)\n",
    ");"
   ]
  },
  {
   "cell_type": "code",
   "execution_count": null,
   "metadata": {},
   "outputs": [],
   "source": [
    "%%sql\n",
    "DROP TABLE Delivers;"
   ]
  },
  {
   "cell_type": "markdown",
   "metadata": {},
   "source": [
    "Populate Delivers table:"
   ]
  },
  {
   "cell_type": "code",
   "execution_count": 24,
   "metadata": {},
   "outputs": [
    {
     "name": "stdout",
     "output_type": "stream",
     "text": [
      " * sqlite:///delivery.db\n",
      "10 rows affected.\n"
     ]
    },
    {
     "data": {
      "text/plain": [
       "[]"
      ]
     },
     "execution_count": 24,
     "metadata": {},
     "output_type": "execute_result"
    }
   ],
   "source": [
    "%%sql\n",
    "\n",
    "INSERT INTO Delivers(driverID, orderID)\n",
    "VALUES  (9919, 4977),\n",
    "        (6604, 2619),\n",
    "        (8017, 3334),\n",
    "        (7436, 5773),\n",
    "        (3539, 4718),\n",
    "        (8545, 1421),\n",
    "        (7043, 5420),\n",
    "        (2756, 3735),\n",
    "        (3492, 5644),\n",
    "        (5124, 7093);"
   ]
  },
  {
   "cell_type": "code",
   "execution_count": 36,
   "metadata": {},
   "outputs": [
    {
     "name": "stdout",
     "output_type": "stream",
     "text": [
      " * sqlite:///delivery.db\n",
      "Done.\n"
     ]
    },
    {
     "data": {
      "text/html": [
       "<table>\n",
       "    <tr>\n",
       "        <th>driverID</th>\n",
       "        <th>orderID</th>\n",
       "    </tr>\n",
       "    <tr>\n",
       "        <td>9919</td>\n",
       "        <td>4977</td>\n",
       "    </tr>\n",
       "    <tr>\n",
       "        <td>6604</td>\n",
       "        <td>2619</td>\n",
       "    </tr>\n",
       "    <tr>\n",
       "        <td>8017</td>\n",
       "        <td>3334</td>\n",
       "    </tr>\n",
       "    <tr>\n",
       "        <td>7436</td>\n",
       "        <td>5773</td>\n",
       "    </tr>\n",
       "    <tr>\n",
       "        <td>3539</td>\n",
       "        <td>4718</td>\n",
       "    </tr>\n",
       "    <tr>\n",
       "        <td>8545</td>\n",
       "        <td>1421</td>\n",
       "    </tr>\n",
       "    <tr>\n",
       "        <td>7043</td>\n",
       "        <td>5420</td>\n",
       "    </tr>\n",
       "    <tr>\n",
       "        <td>2756</td>\n",
       "        <td>3735</td>\n",
       "    </tr>\n",
       "    <tr>\n",
       "        <td>3492</td>\n",
       "        <td>5644</td>\n",
       "    </tr>\n",
       "    <tr>\n",
       "        <td>5124</td>\n",
       "        <td>7093</td>\n",
       "    </tr>\n",
       "</table>"
      ],
      "text/plain": [
       "[(9919, 4977),\n",
       " (6604, 2619),\n",
       " (8017, 3334),\n",
       " (7436, 5773),\n",
       " (3539, 4718),\n",
       " (8545, 1421),\n",
       " (7043, 5420),\n",
       " (2756, 3735),\n",
       " (3492, 5644),\n",
       " (5124, 7093)]"
      ]
     },
     "execution_count": 36,
     "metadata": {},
     "output_type": "execute_result"
    }
   ],
   "source": [
    "%%sql\n",
    "SELECT * FROM Delivers;"
   ]
  },
  {
   "cell_type": "markdown",
   "metadata": {},
   "source": [
    "<br>Create Orders table:"
   ]
  },
  {
   "cell_type": "code",
   "execution_count": 13,
   "metadata": {},
   "outputs": [
    {
     "name": "stdout",
     "output_type": "stream",
     "text": [
      " * sqlite:///delivery.db\n",
      "Done.\n"
     ]
    },
    {
     "data": {
      "text/plain": [
       "[]"
      ]
     },
     "execution_count": 13,
     "metadata": {},
     "output_type": "execute_result"
    }
   ],
   "source": [
    "%%sql\n",
    "\n",
    "CREATE TABLE Orders(\n",
    "    customerID     INT,\n",
    "    orderID        INT,\n",
    "    PRIMARY KEY    (customerID, orderID),\n",
    "    FOREIGN KEY    (customerID)\n",
    "    REFERENCES     Customer (customerID),\n",
    "    FOREIGN KEY    (orderID)\n",
    "    REFERENCES     OrderInstance (orderID)\n",
    ");"
   ]
  },
  {
   "cell_type": "code",
   "execution_count": null,
   "metadata": {},
   "outputs": [],
   "source": [
    "%%sql\n",
    "DROP TABLE Orders;"
   ]
  },
  {
   "cell_type": "markdown",
   "metadata": {},
   "source": [
    "Populate Orders table:"
   ]
  },
  {
   "cell_type": "code",
   "execution_count": 25,
   "metadata": {},
   "outputs": [
    {
     "name": "stdout",
     "output_type": "stream",
     "text": [
      " * sqlite:///delivery.db\n",
      "10 rows affected.\n"
     ]
    },
    {
     "data": {
      "text/plain": [
       "[]"
      ]
     },
     "execution_count": 25,
     "metadata": {},
     "output_type": "execute_result"
    }
   ],
   "source": [
    "%%sql\n",
    "\n",
    "INSERT INTO Orders(customerID, orderID)\n",
    "VALUES  (5369, 4977),\n",
    "        (4488, 2619),\n",
    "        (3355, 3334),\n",
    "        (1244, 5773),\n",
    "        (9667, 4718),\n",
    "        (2521, 1421),\n",
    "        (7930, 5420),\n",
    "        (9480, 3735),\n",
    "        (2528, 5644),\n",
    "        (9203, 7093);"
   ]
  },
  {
   "cell_type": "code",
   "execution_count": 37,
   "metadata": {},
   "outputs": [
    {
     "name": "stdout",
     "output_type": "stream",
     "text": [
      " * sqlite:///delivery.db\n",
      "Done.\n"
     ]
    },
    {
     "data": {
      "text/html": [
       "<table>\n",
       "    <tr>\n",
       "        <th>customerID</th>\n",
       "        <th>orderID</th>\n",
       "    </tr>\n",
       "    <tr>\n",
       "        <td>5369</td>\n",
       "        <td>4977</td>\n",
       "    </tr>\n",
       "    <tr>\n",
       "        <td>4488</td>\n",
       "        <td>2619</td>\n",
       "    </tr>\n",
       "    <tr>\n",
       "        <td>3355</td>\n",
       "        <td>3334</td>\n",
       "    </tr>\n",
       "    <tr>\n",
       "        <td>1244</td>\n",
       "        <td>5773</td>\n",
       "    </tr>\n",
       "    <tr>\n",
       "        <td>9667</td>\n",
       "        <td>4718</td>\n",
       "    </tr>\n",
       "    <tr>\n",
       "        <td>2521</td>\n",
       "        <td>1421</td>\n",
       "    </tr>\n",
       "    <tr>\n",
       "        <td>7930</td>\n",
       "        <td>5420</td>\n",
       "    </tr>\n",
       "    <tr>\n",
       "        <td>9480</td>\n",
       "        <td>3735</td>\n",
       "    </tr>\n",
       "    <tr>\n",
       "        <td>2528</td>\n",
       "        <td>5644</td>\n",
       "    </tr>\n",
       "    <tr>\n",
       "        <td>9203</td>\n",
       "        <td>7093</td>\n",
       "    </tr>\n",
       "</table>"
      ],
      "text/plain": [
       "[(5369, 4977),\n",
       " (4488, 2619),\n",
       " (3355, 3334),\n",
       " (1244, 5773),\n",
       " (9667, 4718),\n",
       " (2521, 1421),\n",
       " (7930, 5420),\n",
       " (9480, 3735),\n",
       " (2528, 5644),\n",
       " (9203, 7093)]"
      ]
     },
     "execution_count": 37,
     "metadata": {},
     "output_type": "execute_result"
    }
   ],
   "source": [
    "%%sql\n",
    "SELECT * FROM Orders;"
   ]
  },
  {
   "cell_type": "markdown",
   "metadata": {},
   "source": [
    "<br>Create Owns table:"
   ]
  },
  {
   "cell_type": "code",
   "execution_count": 14,
   "metadata": {},
   "outputs": [
    {
     "name": "stdout",
     "output_type": "stream",
     "text": [
      " * sqlite:///delivery.db\n",
      "Done.\n"
     ]
    },
    {
     "data": {
      "text/plain": [
       "[]"
      ]
     },
     "execution_count": 14,
     "metadata": {},
     "output_type": "execute_result"
    }
   ],
   "source": [
    "%%sql\n",
    "\n",
    "CREATE TABLE Owns(\n",
    "    restName      VARCHAR(30),\n",
    "    restAddress   VARCHAR(100),\n",
    "    menuID        INT,\n",
    "    itemID        INT,\n",
    "    PRIMARY KEY   (restName, restAddress, menuID, itemID),\n",
    "    FOREIGN KEY   (restName, restAddress)\n",
    "    REFERENCES    Restaurant (restName, restAddress),\n",
    "    FOREIGN KEY   (menuID, itemID)\n",
    "    REFERENCES    Menu (menuID, itemID)\n",
    ");"
   ]
  },
  {
   "cell_type": "code",
   "execution_count": null,
   "metadata": {},
   "outputs": [],
   "source": [
    "%%sql\n",
    "DROP TABLE Owns;"
   ]
  },
  {
   "cell_type": "markdown",
   "metadata": {},
   "source": [
    "Populate Owns table:"
   ]
  },
  {
   "cell_type": "code",
   "execution_count": 26,
   "metadata": {},
   "outputs": [
    {
     "name": "stdout",
     "output_type": "stream",
     "text": [
      " * sqlite:///delivery.db\n",
      "50 rows affected.\n"
     ]
    },
    {
     "data": {
      "text/plain": [
       "[]"
      ]
     },
     "execution_count": 26,
     "metadata": {},
     "output_type": "execute_result"
    }
   ],
   "source": [
    "%%sql\n",
    "\n",
    "INSERT INTO Owns(restName, restAddress, menuID, itemID)\n",
    "VALUES  (\"McDonald's\", \"4801 E Hastings St\", 7950, 1),\n",
    "        (\"McDonald's\", \"4801 E Hastings St\", 7950, 2),\n",
    "        (\"McDonald's\", \"4801 E Hastings St\", 7950, 3),\n",
    "        (\"McDonald's\", \"4801 E Hastings St\", 7950, 4),\n",
    "        (\"McDonald's\", \"4801 E Hastings St\", 7950, 5),\n",
    "        (\"Grand Chinese\", \"4461 Lougheed Hwy\", 2874, 1),\n",
    "        (\"Grand Chinese\", \"4461 Lougheed Hwy\", 2874, 2),\n",
    "        (\"Grand Chinese\", \"4461 Lougheed Hwy\", 2874, 3),\n",
    "        (\"Grand Chinese\", \"4461 Lougheed Hwy\", 2874, 4),\n",
    "        (\"Grand Chinese\", \"4461 Lougheed Hwy\", 2874, 5),\n",
    "        (\"Subway\", \"2251 Holdom Ave\", 1537, 1),\n",
    "        (\"Subway\", \"2251 Holdom Ave\", 1537, 2),\n",
    "        (\"Subway\", \"2251 Holdom Ave\", 1537, 3),\n",
    "        (\"Subway\", \"2251 Holdom Ave\", 1537, 4),\n",
    "        (\"Subway\", \"2251 Holdom Ave\", 1537, 5),\n",
    "        (\"White Lotus Cafe\", \"5901 Broadway\", 8175, 1),\n",
    "        (\"White Lotus Cafe\", \"5901 Broadway\", 8175, 2),\n",
    "        (\"White Lotus Cafe\", \"5901 Broadway\", 8175, 3),\n",
    "        (\"White Lotus Cafe\", \"5901 Broadway\", 8175, 4),\n",
    "        (\"White Lotus Cafe\", \"5901 Broadway\", 8175, 5),\n",
    "        (\"Poke Five\", \"2247 Commercial Dr\", 1257, 1),\n",
    "        (\"Poke Five\", \"2247 Commercial Dr\", 1257, 2),\n",
    "        (\"Poke Five\", \"2247 Commercial Dr\", 1257, 3),\n",
    "        (\"Poke Five\", \"2247 Commercial Dr\", 1257, 4),\n",
    "        (\"Poke Five\", \"2247 Commercial Dr\", 1257, 5),\n",
    "        (\"Osaka Sushi\", \"4152 Hastings St\", 6571, 1),\n",
    "        (\"Osaka Sushi\", \"4152 Hastings St\", 6571, 2),\n",
    "        (\"Osaka Sushi\", \"4152 Hastings St\", 6571, 3),\n",
    "        (\"Osaka Sushi\", \"4152 Hastings St\", 6571, 4),\n",
    "        (\"Osaka Sushi\", \"4152 Hastings St\", 6571, 5),\n",
    "        (\"Red Burrito\", \"1700 Commercial Dr\", 9166, 1),\n",
    "        (\"Red Burrito\", \"1700 Commercial Dr\", 9166, 2),\n",
    "        (\"Red Burrito\", \"1700 Commercial Dr\", 9166, 3),\n",
    "        (\"Red Burrito\", \"1700 Commercial Dr\", 9166, 4),\n",
    "        (\"Red Burrito\", \"1700 Commercial Dr\", 9166, 5),\n",
    "        (\"Papa John's Pizza\", \"4196 Dawson St\", 9421, 1),\n",
    "        (\"Papa John's Pizza\", \"4196 Dawson St\", 9421, 2),\n",
    "        (\"Papa John's Pizza\", \"4196 Dawson St\", 9421, 3),\n",
    "        (\"Papa John's Pizza\", \"4196 Dawson St\", 9421, 4),\n",
    "        (\"Papa John's Pizza\", \"4196 Dawson St\", 9421, 5),\n",
    "        (\"ZenQ\", \"4569 E Hastings St\", 5712, 1),\n",
    "        (\"ZenQ\", \"4569 E Hastings St\", 5712, 2),\n",
    "        (\"ZenQ\", \"4569 E Hastings St\", 5712, 3),\n",
    "        (\"ZenQ\", \"4569 E Hastings St\", 5712, 4),\n",
    "        (\"ZenQ\", \"4569 E Hastings St\", 5712, 5),\n",
    "        (\"A&W\", \"4567 Lougheed Hwy\", 1967, 1),\n",
    "        (\"A&W\", \"4567 Lougheed Hwy\", 1967, 2),\n",
    "        (\"A&W\", \"4567 Lougheed Hwy\", 1967, 3),\n",
    "        (\"A&W\", \"4567 Lougheed Hwy\", 1967, 4),\n",
    "        (\"A&W\", \"4567 Lougheed Hwy\", 1967, 5);"
   ]
  },
  {
   "cell_type": "code",
   "execution_count": 38,
   "metadata": {},
   "outputs": [
    {
     "name": "stdout",
     "output_type": "stream",
     "text": [
      " * sqlite:///delivery.db\n",
      "Done.\n"
     ]
    },
    {
     "data": {
      "text/html": [
       "<table>\n",
       "    <tr>\n",
       "        <th>restName</th>\n",
       "        <th>restAddress</th>\n",
       "        <th>menuID</th>\n",
       "        <th>itemID</th>\n",
       "    </tr>\n",
       "    <tr>\n",
       "        <td>McDonald&#x27;s</td>\n",
       "        <td>4801 E Hastings St</td>\n",
       "        <td>7950</td>\n",
       "        <td>1</td>\n",
       "    </tr>\n",
       "    <tr>\n",
       "        <td>McDonald&#x27;s</td>\n",
       "        <td>4801 E Hastings St</td>\n",
       "        <td>7950</td>\n",
       "        <td>2</td>\n",
       "    </tr>\n",
       "    <tr>\n",
       "        <td>McDonald&#x27;s</td>\n",
       "        <td>4801 E Hastings St</td>\n",
       "        <td>7950</td>\n",
       "        <td>3</td>\n",
       "    </tr>\n",
       "    <tr>\n",
       "        <td>McDonald&#x27;s</td>\n",
       "        <td>4801 E Hastings St</td>\n",
       "        <td>7950</td>\n",
       "        <td>4</td>\n",
       "    </tr>\n",
       "    <tr>\n",
       "        <td>McDonald&#x27;s</td>\n",
       "        <td>4801 E Hastings St</td>\n",
       "        <td>7950</td>\n",
       "        <td>5</td>\n",
       "    </tr>\n",
       "    <tr>\n",
       "        <td>Grand Chinese</td>\n",
       "        <td>4461 Lougheed Hwy</td>\n",
       "        <td>2874</td>\n",
       "        <td>1</td>\n",
       "    </tr>\n",
       "    <tr>\n",
       "        <td>Grand Chinese</td>\n",
       "        <td>4461 Lougheed Hwy</td>\n",
       "        <td>2874</td>\n",
       "        <td>2</td>\n",
       "    </tr>\n",
       "    <tr>\n",
       "        <td>Grand Chinese</td>\n",
       "        <td>4461 Lougheed Hwy</td>\n",
       "        <td>2874</td>\n",
       "        <td>3</td>\n",
       "    </tr>\n",
       "    <tr>\n",
       "        <td>Grand Chinese</td>\n",
       "        <td>4461 Lougheed Hwy</td>\n",
       "        <td>2874</td>\n",
       "        <td>4</td>\n",
       "    </tr>\n",
       "    <tr>\n",
       "        <td>Grand Chinese</td>\n",
       "        <td>4461 Lougheed Hwy</td>\n",
       "        <td>2874</td>\n",
       "        <td>5</td>\n",
       "    </tr>\n",
       "    <tr>\n",
       "        <td>Subway</td>\n",
       "        <td>2251 Holdom Ave</td>\n",
       "        <td>1537</td>\n",
       "        <td>1</td>\n",
       "    </tr>\n",
       "    <tr>\n",
       "        <td>Subway</td>\n",
       "        <td>2251 Holdom Ave</td>\n",
       "        <td>1537</td>\n",
       "        <td>2</td>\n",
       "    </tr>\n",
       "    <tr>\n",
       "        <td>Subway</td>\n",
       "        <td>2251 Holdom Ave</td>\n",
       "        <td>1537</td>\n",
       "        <td>3</td>\n",
       "    </tr>\n",
       "    <tr>\n",
       "        <td>Subway</td>\n",
       "        <td>2251 Holdom Ave</td>\n",
       "        <td>1537</td>\n",
       "        <td>4</td>\n",
       "    </tr>\n",
       "    <tr>\n",
       "        <td>Subway</td>\n",
       "        <td>2251 Holdom Ave</td>\n",
       "        <td>1537</td>\n",
       "        <td>5</td>\n",
       "    </tr>\n",
       "    <tr>\n",
       "        <td>White Lotus Cafe</td>\n",
       "        <td>5901 Broadway</td>\n",
       "        <td>8175</td>\n",
       "        <td>1</td>\n",
       "    </tr>\n",
       "    <tr>\n",
       "        <td>White Lotus Cafe</td>\n",
       "        <td>5901 Broadway</td>\n",
       "        <td>8175</td>\n",
       "        <td>2</td>\n",
       "    </tr>\n",
       "    <tr>\n",
       "        <td>White Lotus Cafe</td>\n",
       "        <td>5901 Broadway</td>\n",
       "        <td>8175</td>\n",
       "        <td>3</td>\n",
       "    </tr>\n",
       "    <tr>\n",
       "        <td>White Lotus Cafe</td>\n",
       "        <td>5901 Broadway</td>\n",
       "        <td>8175</td>\n",
       "        <td>4</td>\n",
       "    </tr>\n",
       "    <tr>\n",
       "        <td>White Lotus Cafe</td>\n",
       "        <td>5901 Broadway</td>\n",
       "        <td>8175</td>\n",
       "        <td>5</td>\n",
       "    </tr>\n",
       "    <tr>\n",
       "        <td>Poke Five</td>\n",
       "        <td>2247 Commercial Dr</td>\n",
       "        <td>1257</td>\n",
       "        <td>1</td>\n",
       "    </tr>\n",
       "    <tr>\n",
       "        <td>Poke Five</td>\n",
       "        <td>2247 Commercial Dr</td>\n",
       "        <td>1257</td>\n",
       "        <td>2</td>\n",
       "    </tr>\n",
       "    <tr>\n",
       "        <td>Poke Five</td>\n",
       "        <td>2247 Commercial Dr</td>\n",
       "        <td>1257</td>\n",
       "        <td>3</td>\n",
       "    </tr>\n",
       "    <tr>\n",
       "        <td>Poke Five</td>\n",
       "        <td>2247 Commercial Dr</td>\n",
       "        <td>1257</td>\n",
       "        <td>4</td>\n",
       "    </tr>\n",
       "    <tr>\n",
       "        <td>Poke Five</td>\n",
       "        <td>2247 Commercial Dr</td>\n",
       "        <td>1257</td>\n",
       "        <td>5</td>\n",
       "    </tr>\n",
       "    <tr>\n",
       "        <td>Osaka Sushi</td>\n",
       "        <td>4152 Hastings St</td>\n",
       "        <td>6571</td>\n",
       "        <td>1</td>\n",
       "    </tr>\n",
       "    <tr>\n",
       "        <td>Osaka Sushi</td>\n",
       "        <td>4152 Hastings St</td>\n",
       "        <td>6571</td>\n",
       "        <td>2</td>\n",
       "    </tr>\n",
       "    <tr>\n",
       "        <td>Osaka Sushi</td>\n",
       "        <td>4152 Hastings St</td>\n",
       "        <td>6571</td>\n",
       "        <td>3</td>\n",
       "    </tr>\n",
       "    <tr>\n",
       "        <td>Osaka Sushi</td>\n",
       "        <td>4152 Hastings St</td>\n",
       "        <td>6571</td>\n",
       "        <td>4</td>\n",
       "    </tr>\n",
       "    <tr>\n",
       "        <td>Osaka Sushi</td>\n",
       "        <td>4152 Hastings St</td>\n",
       "        <td>6571</td>\n",
       "        <td>5</td>\n",
       "    </tr>\n",
       "    <tr>\n",
       "        <td>Red Burrito</td>\n",
       "        <td>1700 Commercial Dr</td>\n",
       "        <td>9166</td>\n",
       "        <td>1</td>\n",
       "    </tr>\n",
       "    <tr>\n",
       "        <td>Red Burrito</td>\n",
       "        <td>1700 Commercial Dr</td>\n",
       "        <td>9166</td>\n",
       "        <td>2</td>\n",
       "    </tr>\n",
       "    <tr>\n",
       "        <td>Red Burrito</td>\n",
       "        <td>1700 Commercial Dr</td>\n",
       "        <td>9166</td>\n",
       "        <td>3</td>\n",
       "    </tr>\n",
       "    <tr>\n",
       "        <td>Red Burrito</td>\n",
       "        <td>1700 Commercial Dr</td>\n",
       "        <td>9166</td>\n",
       "        <td>4</td>\n",
       "    </tr>\n",
       "    <tr>\n",
       "        <td>Red Burrito</td>\n",
       "        <td>1700 Commercial Dr</td>\n",
       "        <td>9166</td>\n",
       "        <td>5</td>\n",
       "    </tr>\n",
       "    <tr>\n",
       "        <td>Papa John&#x27;s Pizza</td>\n",
       "        <td>4196 Dawson St</td>\n",
       "        <td>9421</td>\n",
       "        <td>1</td>\n",
       "    </tr>\n",
       "    <tr>\n",
       "        <td>Papa John&#x27;s Pizza</td>\n",
       "        <td>4196 Dawson St</td>\n",
       "        <td>9421</td>\n",
       "        <td>2</td>\n",
       "    </tr>\n",
       "    <tr>\n",
       "        <td>Papa John&#x27;s Pizza</td>\n",
       "        <td>4196 Dawson St</td>\n",
       "        <td>9421</td>\n",
       "        <td>3</td>\n",
       "    </tr>\n",
       "    <tr>\n",
       "        <td>Papa John&#x27;s Pizza</td>\n",
       "        <td>4196 Dawson St</td>\n",
       "        <td>9421</td>\n",
       "        <td>4</td>\n",
       "    </tr>\n",
       "    <tr>\n",
       "        <td>Papa John&#x27;s Pizza</td>\n",
       "        <td>4196 Dawson St</td>\n",
       "        <td>9421</td>\n",
       "        <td>5</td>\n",
       "    </tr>\n",
       "    <tr>\n",
       "        <td>ZenQ</td>\n",
       "        <td>4569 E Hastings St</td>\n",
       "        <td>5712</td>\n",
       "        <td>1</td>\n",
       "    </tr>\n",
       "    <tr>\n",
       "        <td>ZenQ</td>\n",
       "        <td>4569 E Hastings St</td>\n",
       "        <td>5712</td>\n",
       "        <td>2</td>\n",
       "    </tr>\n",
       "    <tr>\n",
       "        <td>ZenQ</td>\n",
       "        <td>4569 E Hastings St</td>\n",
       "        <td>5712</td>\n",
       "        <td>3</td>\n",
       "    </tr>\n",
       "    <tr>\n",
       "        <td>ZenQ</td>\n",
       "        <td>4569 E Hastings St</td>\n",
       "        <td>5712</td>\n",
       "        <td>4</td>\n",
       "    </tr>\n",
       "    <tr>\n",
       "        <td>ZenQ</td>\n",
       "        <td>4569 E Hastings St</td>\n",
       "        <td>5712</td>\n",
       "        <td>5</td>\n",
       "    </tr>\n",
       "    <tr>\n",
       "        <td>A&amp;W</td>\n",
       "        <td>4567 Lougheed Hwy</td>\n",
       "        <td>1967</td>\n",
       "        <td>1</td>\n",
       "    </tr>\n",
       "    <tr>\n",
       "        <td>A&amp;W</td>\n",
       "        <td>4567 Lougheed Hwy</td>\n",
       "        <td>1967</td>\n",
       "        <td>2</td>\n",
       "    </tr>\n",
       "    <tr>\n",
       "        <td>A&amp;W</td>\n",
       "        <td>4567 Lougheed Hwy</td>\n",
       "        <td>1967</td>\n",
       "        <td>3</td>\n",
       "    </tr>\n",
       "    <tr>\n",
       "        <td>A&amp;W</td>\n",
       "        <td>4567 Lougheed Hwy</td>\n",
       "        <td>1967</td>\n",
       "        <td>4</td>\n",
       "    </tr>\n",
       "    <tr>\n",
       "        <td>A&amp;W</td>\n",
       "        <td>4567 Lougheed Hwy</td>\n",
       "        <td>1967</td>\n",
       "        <td>5</td>\n",
       "    </tr>\n",
       "</table>"
      ],
      "text/plain": [
       "[(\"McDonald's\", '4801 E Hastings St', 7950, 1),\n",
       " (\"McDonald's\", '4801 E Hastings St', 7950, 2),\n",
       " (\"McDonald's\", '4801 E Hastings St', 7950, 3),\n",
       " (\"McDonald's\", '4801 E Hastings St', 7950, 4),\n",
       " (\"McDonald's\", '4801 E Hastings St', 7950, 5),\n",
       " ('Grand Chinese', '4461 Lougheed Hwy', 2874, 1),\n",
       " ('Grand Chinese', '4461 Lougheed Hwy', 2874, 2),\n",
       " ('Grand Chinese', '4461 Lougheed Hwy', 2874, 3),\n",
       " ('Grand Chinese', '4461 Lougheed Hwy', 2874, 4),\n",
       " ('Grand Chinese', '4461 Lougheed Hwy', 2874, 5),\n",
       " ('Subway', '2251 Holdom Ave', 1537, 1),\n",
       " ('Subway', '2251 Holdom Ave', 1537, 2),\n",
       " ('Subway', '2251 Holdom Ave', 1537, 3),\n",
       " ('Subway', '2251 Holdom Ave', 1537, 4),\n",
       " ('Subway', '2251 Holdom Ave', 1537, 5),\n",
       " ('White Lotus Cafe', '5901 Broadway', 8175, 1),\n",
       " ('White Lotus Cafe', '5901 Broadway', 8175, 2),\n",
       " ('White Lotus Cafe', '5901 Broadway', 8175, 3),\n",
       " ('White Lotus Cafe', '5901 Broadway', 8175, 4),\n",
       " ('White Lotus Cafe', '5901 Broadway', 8175, 5),\n",
       " ('Poke Five', '2247 Commercial Dr', 1257, 1),\n",
       " ('Poke Five', '2247 Commercial Dr', 1257, 2),\n",
       " ('Poke Five', '2247 Commercial Dr', 1257, 3),\n",
       " ('Poke Five', '2247 Commercial Dr', 1257, 4),\n",
       " ('Poke Five', '2247 Commercial Dr', 1257, 5),\n",
       " ('Osaka Sushi', '4152 Hastings St', 6571, 1),\n",
       " ('Osaka Sushi', '4152 Hastings St', 6571, 2),\n",
       " ('Osaka Sushi', '4152 Hastings St', 6571, 3),\n",
       " ('Osaka Sushi', '4152 Hastings St', 6571, 4),\n",
       " ('Osaka Sushi', '4152 Hastings St', 6571, 5),\n",
       " ('Red Burrito', '1700 Commercial Dr', 9166, 1),\n",
       " ('Red Burrito', '1700 Commercial Dr', 9166, 2),\n",
       " ('Red Burrito', '1700 Commercial Dr', 9166, 3),\n",
       " ('Red Burrito', '1700 Commercial Dr', 9166, 4),\n",
       " ('Red Burrito', '1700 Commercial Dr', 9166, 5),\n",
       " (\"Papa John's Pizza\", '4196 Dawson St', 9421, 1),\n",
       " (\"Papa John's Pizza\", '4196 Dawson St', 9421, 2),\n",
       " (\"Papa John's Pizza\", '4196 Dawson St', 9421, 3),\n",
       " (\"Papa John's Pizza\", '4196 Dawson St', 9421, 4),\n",
       " (\"Papa John's Pizza\", '4196 Dawson St', 9421, 5),\n",
       " ('ZenQ', '4569 E Hastings St', 5712, 1),\n",
       " ('ZenQ', '4569 E Hastings St', 5712, 2),\n",
       " ('ZenQ', '4569 E Hastings St', 5712, 3),\n",
       " ('ZenQ', '4569 E Hastings St', 5712, 4),\n",
       " ('ZenQ', '4569 E Hastings St', 5712, 5),\n",
       " ('A&W', '4567 Lougheed Hwy', 1967, 1),\n",
       " ('A&W', '4567 Lougheed Hwy', 1967, 2),\n",
       " ('A&W', '4567 Lougheed Hwy', 1967, 3),\n",
       " ('A&W', '4567 Lougheed Hwy', 1967, 4),\n",
       " ('A&W', '4567 Lougheed Hwy', 1967, 5)]"
      ]
     },
     "execution_count": 38,
     "metadata": {},
     "output_type": "execute_result"
    }
   ],
   "source": [
    "%%sql\n",
    "SELECT * FROM Owns;"
   ]
  },
  {
   "cell_type": "markdown",
   "metadata": {},
   "source": [
    "<br>Create Includes table:"
   ]
  },
  {
   "cell_type": "code",
   "execution_count": 15,
   "metadata": {},
   "outputs": [
    {
     "name": "stdout",
     "output_type": "stream",
     "text": [
      " * sqlite:///delivery.db\n",
      "Done.\n"
     ]
    },
    {
     "data": {
      "text/plain": [
       "[]"
      ]
     },
     "execution_count": 15,
     "metadata": {},
     "output_type": "execute_result"
    }
   ],
   "source": [
    "%%sql\n",
    "\n",
    "CREATE TABLE Includes(\n",
    "    orderID        INT,\n",
    "    menuID         INT,\n",
    "    itemID         INT,\n",
    "    quantity       INT,\n",
    "    PRIMARY KEY    (orderID, menuID, itemID),\n",
    "    FOREIGN KEY    (orderID)\n",
    "    REFERENCES     OrderInstance (orderID),\n",
    "    FOREIGN KEY    (menuID, itemID)\n",
    "    REFERENCES     Items (menuID, itemID)\n",
    ");"
   ]
  },
  {
   "cell_type": "code",
   "execution_count": null,
   "metadata": {},
   "outputs": [],
   "source": [
    "%%sql\n",
    "DROP TABLE Includes;"
   ]
  },
  {
   "cell_type": "markdown",
   "metadata": {},
   "source": [
    "Populate Includes table:"
   ]
  },
  {
   "cell_type": "code",
   "execution_count": 27,
   "metadata": {},
   "outputs": [
    {
     "name": "stdout",
     "output_type": "stream",
     "text": [
      " * sqlite:///delivery.db\n",
      "27 rows affected.\n"
     ]
    },
    {
     "data": {
      "text/plain": [
       "[]"
      ]
     },
     "execution_count": 27,
     "metadata": {},
     "output_type": "execute_result"
    }
   ],
   "source": [
    "%%sql\n",
    "\n",
    "INSERT INTO Includes(orderID, menuID, itemID, quantity)\n",
    "VALUES  (4977, 8175, 1, 1),\n",
    "        (4977, 8175, 2, 1),\n",
    "        (4977, 8175, 3, 1),\n",
    "        (4977, 8175, 4, 1),\n",
    "        (2619, 7950, 1, 1),\n",
    "        (2619, 7950, 4, 1),\n",
    "        (2619, 7950, 5, 1),\n",
    "        (3334, 1537, 2, 1),\n",
    "        (3334, 1537, 5, 1),\n",
    "        (5773, 9421, 4, 1),\n",
    "        (5773, 9421, 5, 1),\n",
    "        (4718, 2874, 2, 1),\n",
    "        (4718, 2874, 4, 2),\n",
    "        (1421, 6571, 1, 2),\n",
    "        (1421, 6571, 2, 1),\n",
    "        (1421, 6571, 3, 1),\n",
    "        (1421, 6571, 5, 1),\n",
    "        (5420, 1967, 1, 1),\n",
    "        (5420, 1967, 5, 1),\n",
    "        (3735, 5712, 1, 2),\n",
    "        (3735, 5712, 3, 1),\n",
    "        (3735, 5712, 5, 1),\n",
    "        (5644, 1257, 2, 1),\n",
    "        (5644, 1257, 4, 1),\n",
    "        (7093, 9166, 1, 2),\n",
    "        (7093, 9166, 3, 1),\n",
    "        (7093, 9166, 5, 2);"
   ]
  },
  {
   "cell_type": "code",
   "execution_count": 39,
   "metadata": {},
   "outputs": [
    {
     "name": "stdout",
     "output_type": "stream",
     "text": [
      " * sqlite:///delivery.db\n",
      "Done.\n"
     ]
    },
    {
     "data": {
      "text/html": [
       "<table>\n",
       "    <tr>\n",
       "        <th>orderID</th>\n",
       "        <th>menuID</th>\n",
       "        <th>itemID</th>\n",
       "        <th>quantity</th>\n",
       "    </tr>\n",
       "    <tr>\n",
       "        <td>4977</td>\n",
       "        <td>8175</td>\n",
       "        <td>1</td>\n",
       "        <td>1</td>\n",
       "    </tr>\n",
       "    <tr>\n",
       "        <td>4977</td>\n",
       "        <td>8175</td>\n",
       "        <td>2</td>\n",
       "        <td>1</td>\n",
       "    </tr>\n",
       "    <tr>\n",
       "        <td>4977</td>\n",
       "        <td>8175</td>\n",
       "        <td>3</td>\n",
       "        <td>1</td>\n",
       "    </tr>\n",
       "    <tr>\n",
       "        <td>4977</td>\n",
       "        <td>8175</td>\n",
       "        <td>4</td>\n",
       "        <td>1</td>\n",
       "    </tr>\n",
       "    <tr>\n",
       "        <td>2619</td>\n",
       "        <td>7950</td>\n",
       "        <td>1</td>\n",
       "        <td>1</td>\n",
       "    </tr>\n",
       "    <tr>\n",
       "        <td>2619</td>\n",
       "        <td>7950</td>\n",
       "        <td>4</td>\n",
       "        <td>1</td>\n",
       "    </tr>\n",
       "    <tr>\n",
       "        <td>2619</td>\n",
       "        <td>7950</td>\n",
       "        <td>5</td>\n",
       "        <td>1</td>\n",
       "    </tr>\n",
       "    <tr>\n",
       "        <td>3334</td>\n",
       "        <td>1537</td>\n",
       "        <td>2</td>\n",
       "        <td>1</td>\n",
       "    </tr>\n",
       "    <tr>\n",
       "        <td>3334</td>\n",
       "        <td>1537</td>\n",
       "        <td>5</td>\n",
       "        <td>1</td>\n",
       "    </tr>\n",
       "    <tr>\n",
       "        <td>5773</td>\n",
       "        <td>9421</td>\n",
       "        <td>4</td>\n",
       "        <td>1</td>\n",
       "    </tr>\n",
       "    <tr>\n",
       "        <td>5773</td>\n",
       "        <td>9421</td>\n",
       "        <td>5</td>\n",
       "        <td>1</td>\n",
       "    </tr>\n",
       "    <tr>\n",
       "        <td>4718</td>\n",
       "        <td>2874</td>\n",
       "        <td>2</td>\n",
       "        <td>1</td>\n",
       "    </tr>\n",
       "    <tr>\n",
       "        <td>4718</td>\n",
       "        <td>2874</td>\n",
       "        <td>4</td>\n",
       "        <td>2</td>\n",
       "    </tr>\n",
       "    <tr>\n",
       "        <td>1421</td>\n",
       "        <td>6571</td>\n",
       "        <td>1</td>\n",
       "        <td>2</td>\n",
       "    </tr>\n",
       "    <tr>\n",
       "        <td>1421</td>\n",
       "        <td>6571</td>\n",
       "        <td>2</td>\n",
       "        <td>1</td>\n",
       "    </tr>\n",
       "    <tr>\n",
       "        <td>1421</td>\n",
       "        <td>6571</td>\n",
       "        <td>3</td>\n",
       "        <td>1</td>\n",
       "    </tr>\n",
       "    <tr>\n",
       "        <td>1421</td>\n",
       "        <td>6571</td>\n",
       "        <td>5</td>\n",
       "        <td>1</td>\n",
       "    </tr>\n",
       "    <tr>\n",
       "        <td>5420</td>\n",
       "        <td>1967</td>\n",
       "        <td>1</td>\n",
       "        <td>1</td>\n",
       "    </tr>\n",
       "    <tr>\n",
       "        <td>5420</td>\n",
       "        <td>1967</td>\n",
       "        <td>5</td>\n",
       "        <td>1</td>\n",
       "    </tr>\n",
       "    <tr>\n",
       "        <td>3735</td>\n",
       "        <td>5712</td>\n",
       "        <td>1</td>\n",
       "        <td>2</td>\n",
       "    </tr>\n",
       "    <tr>\n",
       "        <td>3735</td>\n",
       "        <td>5712</td>\n",
       "        <td>3</td>\n",
       "        <td>1</td>\n",
       "    </tr>\n",
       "    <tr>\n",
       "        <td>3735</td>\n",
       "        <td>5712</td>\n",
       "        <td>5</td>\n",
       "        <td>1</td>\n",
       "    </tr>\n",
       "    <tr>\n",
       "        <td>5644</td>\n",
       "        <td>1257</td>\n",
       "        <td>2</td>\n",
       "        <td>1</td>\n",
       "    </tr>\n",
       "    <tr>\n",
       "        <td>5644</td>\n",
       "        <td>1257</td>\n",
       "        <td>4</td>\n",
       "        <td>1</td>\n",
       "    </tr>\n",
       "    <tr>\n",
       "        <td>7093</td>\n",
       "        <td>9166</td>\n",
       "        <td>1</td>\n",
       "        <td>2</td>\n",
       "    </tr>\n",
       "    <tr>\n",
       "        <td>7093</td>\n",
       "        <td>9166</td>\n",
       "        <td>3</td>\n",
       "        <td>1</td>\n",
       "    </tr>\n",
       "    <tr>\n",
       "        <td>7093</td>\n",
       "        <td>9166</td>\n",
       "        <td>5</td>\n",
       "        <td>2</td>\n",
       "    </tr>\n",
       "</table>"
      ],
      "text/plain": [
       "[(4977, 8175, 1, 1),\n",
       " (4977, 8175, 2, 1),\n",
       " (4977, 8175, 3, 1),\n",
       " (4977, 8175, 4, 1),\n",
       " (2619, 7950, 1, 1),\n",
       " (2619, 7950, 4, 1),\n",
       " (2619, 7950, 5, 1),\n",
       " (3334, 1537, 2, 1),\n",
       " (3334, 1537, 5, 1),\n",
       " (5773, 9421, 4, 1),\n",
       " (5773, 9421, 5, 1),\n",
       " (4718, 2874, 2, 1),\n",
       " (4718, 2874, 4, 2),\n",
       " (1421, 6571, 1, 2),\n",
       " (1421, 6571, 2, 1),\n",
       " (1421, 6571, 3, 1),\n",
       " (1421, 6571, 5, 1),\n",
       " (5420, 1967, 1, 1),\n",
       " (5420, 1967, 5, 1),\n",
       " (3735, 5712, 1, 2),\n",
       " (3735, 5712, 3, 1),\n",
       " (3735, 5712, 5, 1),\n",
       " (5644, 1257, 2, 1),\n",
       " (5644, 1257, 4, 1),\n",
       " (7093, 9166, 1, 2),\n",
       " (7093, 9166, 3, 1),\n",
       " (7093, 9166, 5, 2)]"
      ]
     },
     "execution_count": 39,
     "metadata": {},
     "output_type": "execute_result"
    }
   ],
   "source": [
    "%%sql\n",
    "SELECT * FROM Includes;"
   ]
  }
 ],
 "metadata": {
  "kernelspec": {
   "display_name": "Python 3",
   "language": "python",
   "name": "python3"
  },
  "language_info": {
   "codemirror_mode": {
    "name": "ipython",
    "version": 3
   },
   "file_extension": ".py",
   "mimetype": "text/x-python",
   "name": "python",
   "nbconvert_exporter": "python",
   "pygments_lexer": "ipython3",
   "version": "3.6.5"
  }
 },
 "nbformat": 4,
 "nbformat_minor": 2
}
