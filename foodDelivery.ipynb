{
 "cells": [
  {
   "cell_type": "markdown",
   "metadata": {},
   "source": [
    "# CMPT354 - MP1 \n",
    "\n",
    "SQLite Food Delivery Database"
   ]
  },
  {
   "cell_type": "markdown",
   "metadata": {},
   "source": [
    "Load ipython-sql extension:"
   ]
  },
  {
   "cell_type": "code",
   "execution_count": 5,
   "metadata": {},
   "outputs": [],
   "source": [
    "%load_ext sql"
   ]
  },
  {
   "cell_type": "markdown",
   "metadata": {},
   "source": [
    "Create database \"delivery\" (working name):"
   ]
  },
  {
   "cell_type": "code",
   "execution_count": 6,
   "metadata": {},
   "outputs": [
    {
     "data": {
      "text/plain": [
       "'Connected: @delivery.db'"
      ]
     },
     "execution_count": 6,
     "metadata": {},
     "output_type": "execute_result"
    }
   ],
   "source": [
    "%sql sqlite:///delivery.db"
   ]
  },
  {
   "cell_type": "markdown",
   "metadata": {},
   "source": [
    "Create Customer table:"
   ]
  },
  {
   "cell_type": "code",
   "execution_count": 7,
   "metadata": {},
   "outputs": [
    {
     "name": "stdout",
     "output_type": "stream",
     "text": [
      " * sqlite:///delivery.db\n",
      "Done.\n",
      "(sqlite3.OperationalError) table Customer already exists\n",
      "[SQL: CREATE TABLE Customer(\n",
      "    customerID      INT,\n",
      "    firstName       VARCHAR(20),\n",
      "    lastName        VARCHAR(20),\n",
      "    email           VARCHAR(20),\n",
      "    cusAddress      VARCHAR(100),    \n",
      "    PRIMARY KEY     (customerID)\n",
      ");]\n",
      "(Background on this error at: http://sqlalche.me/e/e3q8)\n"
     ]
    }
   ],
   "source": [
    "%%sql\n",
    "\n",
    "PRAGMA foreign_keys = ON;\n",
    "\n",
    "CREATE TABLE Customer(\n",
    "    customerID      INT,\n",
    "    firstName       VARCHAR(20),\n",
    "    lastName        VARCHAR(20),\n",
    "    email           VARCHAR(20),\n",
    "    cusAddress      VARCHAR(100),    \n",
    "    PRIMARY KEY     (customerID)\n",
    ");"
   ]
  },
  {
   "cell_type": "markdown",
   "metadata": {},
   "source": [
    "Populate Customer table:"
   ]
  },
  {
   "cell_type": "code",
   "execution_count": null,
   "metadata": {},
   "outputs": [],
   "source": [
    "INSERT INTO Customer(customerID, firstName, lastName, email, cusAddress)\n",
    "VALUES  (1, \"John\", \"Patrick\", \"jpat@gmail.com\", \"7766 Apple St.\"),\n",
    "        (2, \"Arnie\", \"Wright\", \"arnie_wright@yahoo.com\", \"8463 Stage Dr.\"),\n",
    "        (3, \"Luis\", \"Dolan\", \"dolan1234@hotmail.com\", \"9472 Red St.\"),\n",
    "        (4, \"Jennifer\", \"Long\", \"jenny_l@gmail.com\", \"1235 Winter Ave.\"),\n",
    "        (5, \"Quinn\", \"Silva\", \"queen_silver@yahoo.com\", \"3984 Scholar St.\"),\n",
    "        (6, \"Oliver\", \"Mayer\", \"olivermayer@yahoo.com\", \"5874 Heaven Ave.\"),\n",
    "        (7, \"Stephen\", \"Potter\", \"stephen_p@gmail.com\", \"2736 Temple Dr.\"),\n",
    "        (8, \"Natalie\", \"Blackmore\", \"nat_blackmore@hotmail.com\", \"3836 Parade Ave.\"),\n",
    "        (9, \"Elsa\", \"Morgan\", \"elmorgan@yahoo.com\", \"4973 Brown St.\"),\n",
    "        (10, \"Melinda\", \"Marshall\", \"mmarshall@yahoo.com\", \"3846 Reach Dr.\")"
   ]
  },
  {
   "cell_type": "markdown",
   "metadata": {},
   "source": [
    "<br>Create Payment table:"
   ]
  },
  {
   "cell_type": "code",
   "execution_count": 8,
   "metadata": {},
   "outputs": [
    {
     "name": "stdout",
     "output_type": "stream",
     "text": [
      " * sqlite:///delivery.db\n",
      "Done.\n"
     ]
    },
    {
     "data": {
      "text/plain": [
       "[]"
      ]
     },
     "execution_count": 8,
     "metadata": {},
     "output_type": "execute_result"
    }
   ],
   "source": [
    "%%sql\n",
    "\n",
    "CREATE TABLE Payment(\n",
    "    payID       INT,\n",
    "    payType     CHAR(4),\n",
    "    payTotal    FLOAT,\n",
    "    PRIMARY KEY     (payID)\n",
    ");"
   ]
  },
  {
   "cell_type": "markdown",
   "metadata": {},
   "source": [
    "Populate Payment table:"
   ]
  },
  {
   "cell_type": "code",
   "execution_count": null,
   "metadata": {},
   "outputs": [],
   "source": [
    "INSERT INTO Payment(payID, payType, payTotal)\n",
    "VALUES  (9, \"CASH\", ),\n",
    "        (21, \"CARD\", ),\n",
    "        (36, \"CASH\", ),\n",
    "        (44, \"CARD\", ),\n",
    "        (52, \"CARD\", ),\n",
    "        (63, \"CARD\", ),\n",
    "        (73, \"CARD\", ),\n",
    "        (82, \"CASH\", ),\n",
    "        (3, \"CASH\", ),\n",
    "        (18, \"CARD\", )"
   ]
  },
  {
   "cell_type": "markdown",
   "metadata": {},
   "source": [
    "<br>Create OrderInstance table:"
   ]
  },
  {
   "cell_type": "code",
   "execution_count": 9,
   "metadata": {},
   "outputs": [
    {
     "name": "stdout",
     "output_type": "stream",
     "text": [
      " * sqlite:///delivery.db\n",
      "Done.\n"
     ]
    },
    {
     "data": {
      "text/plain": [
       "[]"
      ]
     },
     "execution_count": 9,
     "metadata": {},
     "output_type": "execute_result"
    }
   ],
   "source": [
    "%%sql\n",
    "\n",
    "CREATE TABLE OrderInstance(\n",
    "    orderID         INT,\n",
    "    orderTime       TIME,\n",
    "    orderStatus     VARCHAR(30),\n",
    "    totalPrice      FLOAT,    \n",
    "    deliveryTime    TIME,\n",
    "    PRIMARY KEY     (orderID)\n",
    ");"
   ]
  },
  {
   "cell_type": "markdown",
   "metadata": {},
   "source": [
    "Populate OrderInstance table:"
   ]
  },
  {
   "cell_type": "code",
   "execution_count": null,
   "metadata": {},
   "outputs": [],
   "source": [
    "INSERT INTO OrderInstance(orderID, orderTime, orderStatus, totalPrice, deliveryTime)\n",
    "VALUES  (1, \"\", \"Delivered\", , \"\"),\n",
    "        (2, \"\", \"On the Way\", , \"\"),\n",
    "        (3, \"\", \"Being Prepared\", , \"\"),\n",
    "        (4, \"\", \"Delivered\", , \"\"),\n",
    "        (5, \"\", \"On the Way\", , \"\"),\n",
    "        (6, \"\", \"Being Prepared\", , \"\"),\n",
    "        (7, \"\", \"Delivered\", , \"\"),\n",
    "        (8, \"\", \"Delivered\", , \"\"),\n",
    "        (9, \"\", \"Delivered\", , \"\"),\n",
    "        (10, \"\", \"On the Way\", , \"\")"
   ]
  },
  {
   "cell_type": "markdown",
   "metadata": {},
   "source": [
    "<br>Create Driver table:"
   ]
  },
  {
   "cell_type": "code",
   "execution_count": 10,
   "metadata": {},
   "outputs": [
    {
     "name": "stdout",
     "output_type": "stream",
     "text": [
      " * sqlite:///delivery.db\n",
      "Done.\n"
     ]
    },
    {
     "data": {
      "text/plain": [
       "[]"
      ]
     },
     "execution_count": 10,
     "metadata": {},
     "output_type": "execute_result"
    }
   ],
   "source": [
    "%%sql\n",
    "\n",
    "CREATE TABLE Driver(\n",
    "    driverID        INT,\n",
    "    firstName       VARCHAR(20),\n",
    "    lastName        VARCHAR(20),\n",
    "    carDesc         VARCHAR(50),\n",
    "    PRIMARY KEY     (driverID)\n",
    ");"
   ]
  },
  {
   "cell_type": "markdown",
   "metadata": {},
   "source": [
    "Populate Driver table:"
   ]
  },
  {
   "cell_type": "code",
   "execution_count": null,
   "metadata": {},
   "outputs": [],
   "source": [
    "INSERT INTO Driver(driverID, firstName, lastName, carDesc)\n",
    "VALUES  (35, \"Prisha\", \"Bruce\", \"Honda 2012, Blue\"),\n",
    "        (73, \"Mark\", \"Plummer\", \"Chevrolet 2014, Black\"),\n",
    "        (12, \"Fallon\", \"Lee\", \"Nissan 2015, Gray\"),\n",
    "        (4, \"Bella\", \"Fellows\", \"Hyundai 2010, Pink\"),\n",
    "        (93, \"Kaleem\", \"Cooper\", \"Fiat 2016, Green\"),\n",
    "        (39, \"Alfred\", \"Perkins\", \"Mazda 2009, Blue\"),\n",
    "        (23, \"Philip\", \"Kemberton\", \"Ford 2010, Orange\"),\n",
    "        (47, \"Bert\", \"Wilkes\", \"Suzuki 2012, Red\"),\n",
    "        (8, \"Dominic\", \"Ramirez\", \"Citroen 2015, Black\"),\n",
    "        (29, \"Ivor\", \"Valentine\", \"Toyota 2013, White\"),"
   ]
  },
  {
   "cell_type": "markdown",
   "metadata": {},
   "source": [
    "<br>Create Restaurant table:"
   ]
  },
  {
   "cell_type": "code",
   "execution_count": 11,
   "metadata": {},
   "outputs": [
    {
     "name": "stdout",
     "output_type": "stream",
     "text": [
      " * sqlite:///delivery.db\n",
      "Done.\n"
     ]
    },
    {
     "data": {
      "text/plain": [
       "[]"
      ]
     },
     "execution_count": 11,
     "metadata": {},
     "output_type": "execute_result"
    }
   ],
   "source": [
    "%%sql\n",
    "\n",
    "CREATE TABLE Restaurant(\n",
    "    restName       VARCHAR(30),\n",
    "    restAddress    VARCHAR(100),    \n",
    "    cuisine        VARCHAR(30),\n",
    "    restType       VARCHAR(30),\n",
    "    rating         INT,\n",
    "    PRIMARY KEY    (restName, restAddress)\n",
    ");"
   ]
  },
  {
   "cell_type": "markdown",
   "metadata": {},
   "source": [
    "Populate Restaurant table:"
   ]
  },
  {
   "cell_type": "code",
   "execution_count": null,
   "metadata": {},
   "outputs": [],
   "source": [
    "INSERT INTO Restaurant(restName, restAddress, cuisine, restType, rating)\n",
    "VALUES  (\"\", \"\", \"\", \"Fast Food\", 4),\n",
    "        (\"\", \"\", \"\", \"Fine Dining\", 5),\n",
    "        (\"\", \"\", \"\", \"\", 3),\n",
    "        (\"\", \"\", \"\", \"\", 3),\n",
    "        (\"\", \"\", \"\", \"\", 4),\n",
    "        (\"\", \"\", \"\", \"\", 2),\n",
    "        (\"\", \"\", \"\", \"\", 3),\n",
    "        (\"\", \"\", \"\", \"\", 4),\n",
    "        (\"\", \"\", \"\", \"\", 5),\n",
    "        (\"\", \"\", \"\", \"\", 4)"
   ]
  },
  {
   "cell_type": "markdown",
   "metadata": {},
   "source": [
    "<br>Create Menu table"
   ]
  },
  {
   "cell_type": "code",
   "execution_count": 12,
   "metadata": {},
   "outputs": [
    {
     "name": "stdout",
     "output_type": "stream",
     "text": [
      " * sqlite:///delivery.db\n",
      "Done.\n"
     ]
    },
    {
     "data": {
      "text/plain": [
       "[]"
      ]
     },
     "execution_count": 12,
     "metadata": {},
     "output_type": "execute_result"
    }
   ],
   "source": [
    "%%sql\n",
    "\n",
    "CREATE TABLE Menu(\n",
    "    itemID INT,\n",
    "    menuID INT\n",
    "    PRIMARY KEY (itemID, menuID)\n",
    ");"
   ]
  },
  {
   "cell_type": "markdown",
   "metadata": {},
   "source": [
    "Populate Menu table:"
   ]
  },
  {
   "cell_type": "code",
   "execution_count": null,
   "metadata": {},
   "outputs": [],
   "source": [
    "INSERT INTO Menu(itemID, menuID)\n",
    "VALUES  (1, 1),\n",
    "        (2, 1),\n",
    "        (3, 1),\n",
    "        (4, 2),\n",
    "        (5, 2),\n",
    "        (6, 2),\n",
    "        (7, 3),\n",
    "        (8, 3),\n",
    "        (9, 3),\n",
    "        (10, 3)"
   ]
  },
  {
   "cell_type": "markdown",
   "metadata": {},
   "source": [
    "<br>Create Items table:"
   ]
  },
  {
   "cell_type": "code",
   "execution_count": 13,
   "metadata": {},
   "outputs": [
    {
     "name": "stdout",
     "output_type": "stream",
     "text": [
      " * sqlite:///delivery.db\n",
      "Done.\n"
     ]
    },
    {
     "data": {
      "text/plain": [
       "[]"
      ]
     },
     "execution_count": 13,
     "metadata": {},
     "output_type": "execute_result"
    }
   ],
   "source": [
    "%%sql\n",
    "\n",
    "CREATE TABLE Items(\n",
    "    itemID          INT,\n",
    "    itemName        VARCHAR(30),\n",
    "    itemDesc        VARCHAR(50),\n",
    "    price           FLOAT,\n",
    "    FOREIGN KEY     (itemID)\n",
    "    REFERENCES      Menu (itemID)\n",
    ");"
   ]
  },
  {
   "cell_type": "markdown",
   "metadata": {},
   "source": [
    "Populate Items table:"
   ]
  },
  {
   "cell_type": "code",
   "execution_count": null,
   "metadata": {},
   "outputs": [],
   "source": [
    "INSERT INTO Items(itemID, itemName, itemDesc, price)\n",
    "VALUES  (1, \"Pizza\", \"XXXL Size\", 14.99),\n",
    "        (2, \"Burger\", \"Big an Juicy\", 8.99,\n",
    "        (3, \"Fries\", \"Double Fried\", 6.99),\n",
    "        (4, \"Ramen\", \"Super Spicy\", 10.99),\n",
    "        (5, \"Sushi\", \"Lotsa Fish\", 15.99),\n",
    "        (6, \"Miso Soup\", \"Delish\", 6.99),\n",
    "        (7, \"Croissant\", \"Freshly Baked\", 3.99),\n",
    "        (8, \"Baguette\", \"Best Bread\", 5.99),\n",
    "        (9, \"Omlette au Fromage\", \"Chef's Choice\", 7.99),\n",
    "        (10, \"Creme Brulee\", \"Way Too Good\", 8.99)"
   ]
  }
 ],
 "metadata": {
  "kernelspec": {
   "display_name": "Python 3",
   "language": "python",
   "name": "python3"
  },
  "language_info": {
   "codemirror_mode": {
    "name": "ipython",
    "version": 3
   },
   "file_extension": ".py",
   "mimetype": "text/x-python",
   "name": "python",
   "nbconvert_exporter": "python",
   "pygments_lexer": "ipython3",
   "version": "3.7.1"
  }
 },
 "nbformat": 4,
 "nbformat_minor": 2
}
